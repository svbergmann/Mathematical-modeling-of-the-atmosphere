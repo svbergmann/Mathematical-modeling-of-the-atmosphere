{
 "cells": [
  {
   "cell_type": "markdown",
   "metadata": {},
   "source": [
    "# Praktikum 0\n",
    "## Mathematical modeling of the atmosphere\n",
    "\n",
    "\n",
    "### Integrating simple closure equations for moisture\n",
    "\n",
    "Consider the following set of 1D equations for moisture variables. The domain is $z=[0,1]$\n",
    "First, the grid-mean total water mixing ratio, $\\overline{r_t}(t,z)$, depends on the vertical flux of $r_t$, $\\overline{w'r'_t}(t,z)$:\n",
    "\n",
    "$$\\frac{\\delta \\overline{r_t}}{\\delta t} = -\\frac{\\delta}{\\delta z}\\overline{w'r'_t}$$\n",
    "Second, the flux $\\overline{w'r'_t}$ is assumed to be related to $\\overline{r_t}$ by\n",
    "\n",
    "$$\\overline{w'r'_t}=-K\\frac{\\delta\\overline{r_t}}{\\delta z}$$\n",
    "\n",
    "That is, the flux is determined by down-gradient diffusion. The boundary condition at the\n",
    "boundaries $z=[0,1]$ is $\\overline{w'r'_t}=0$.\n",
    "Finally, the sub-grid variance of total water, $\\overline{{r'_t}^2}(t,z)$, is assumed to be adequately diagnosed by the algebraic expression\n",
    "\n",
    "$$\\overline{{r'_t}^2}=\\tau K (\\frac{\\delta \\overline{r_t}}{\\delta z})^2$$\n",
    "\n",
    "where $\\tau=1$ is a prescribed eddy turnover time, and $K=K(z)$ is a prescribed eddy diffusivity:\n",
    "\n",
    "$$K(z) = \\begin{cases} 1, & \\text{   if $z<=1/2$} \\\\ z + 1/2, & \\text{  $1/2<z<=1$}\\end{cases}$$\n",
    "The initial profile of total water diminishes with height above the mixed layer:\n",
    "\n",
    "$$\\overline{r_t}(t=0,z) = \\begin{cases} r_{t,sfc}, & \\text{   if $z<=1/2$} \\\\ -r_{t,sfc}(z-1/2) + r_{t,sfc}, & \\text{  $1/2<z<=1$} \\end{cases}$$\n",
    "\n",
    "where $r_{t,sfc}=10$."
   ]
  },
  {
   "cell_type": "code",
   "execution_count": 100,
   "metadata": {},
   "outputs": [],
   "source": [
    "\"\"\"Assuming t_t0(z) for z outside the boarders equals 1.\"\"\"\n",
    "\n",
    "rt_srf = 10\n",
    "\n",
    "\n",
    "def r_t0(z):\n",
    "    if z > 1:\n",
    "        return 1\n",
    "    elif z > 0.5:\n",
    "        return -rt_srf * (z - 0.5) + rt_srf\n",
    "    else:\n",
    "        return rt_srf"
   ]
  },
  {
   "cell_type": "code",
   "execution_count": 101,
   "outputs": [],
   "source": [
    "\"\"\"Assuming k(z) for z outside the boarders equals 1.\"\"\"\n",
    "\n",
    "\n",
    "def k(z):\n",
    "    if z > 1:\n",
    "        return 1\n",
    "    elif z > 0.5:\n",
    "        return z + 0.5\n",
    "    else:\n",
    "        return 1"
   ],
   "metadata": {
    "collapsed": false
   }
  },
  {
   "cell_type": "markdown",
   "metadata": {},
   "source": [
    "So equation (1) in (2) is now:\n",
    "\n",
    "$$\\frac{\\delta \\overline{r_t}}{\\delta t}=\\frac{\\delta}{\\delta z}(K\\cdot\\frac{\\delta \\overline{r_t}}{\\delta z})$$\n",
    "\n",
    "We will have a vector $\\overline{r_t}$ which represents the searched values."
   ]
  },
  {
   "cell_type": "code",
   "execution_count": 102,
   "metadata": {},
   "outputs": [],
   "source": [
    "import numpy as np\n",
    "\n",
    "n = 100\n",
    "# Create vector with n values which are equally spaced between 0 and 10.\n",
    "r_t = np.linspace(0, 1, n)\n",
    "\n",
    "# Create a height vector with the same dimension, too.\n",
    "height = np.copy(r_t)\n",
    "\n",
    "# Set up the initial condition.\n",
    "for i in range(len(r_t)):\n",
    "    r_t[i] = r_t0(height[i])"
   ]
  },
  {
   "cell_type": "markdown",
   "metadata": {},
   "source": [
    "---\n",
    "### Exercises:\n",
    "\n",
    "- Integrate the equations forward in time using a discretization method of your choice.\n",
    "- Plot the profiles of $\\overline{r_t}$ and $\\overline{{r'_t}^2}$ for later times.\n",
    "    Can you explain their behavior in physical terms?\n",
    "    What do you expect the behavior will be as $t\\to\\infty$?\n",
    "---\n",
    "\n",
    "So we are assuming now that:\n",
    "\n",
    "$$\\frac{\\delta \\overline{r_t}}{\\delta t} \\approx \\frac{\\overline{{r_i}^{n+1}} - \\overline{r_i^n}}{\\Delta t}$$\n",
    "And:\n",
    "\n",
    "$$\\frac{\\delta^2 \\overline{r_t}}{\\delta z^2} \\approx \\frac{1}{\\Delta z^2}(\\overline{{r_{i+1}^n}} - 2\\cdot\\overline{r_i^n} + \\overline{{r_{i-1}^n}})$$\n",
    "\n",
    "So in conclusion\n",
    "\n",
    "$$\\frac{\\delta \\overline{r_t}}{\\delta t}=\\frac{\\delta}{\\delta z}(K\\cdot\\frac{\\delta \\overline{r_t}}{\\delta z})$$\n",
    "### First Exercise:\n",
    "becomes\n",
    "\n",
    "$$\\frac{\\overline{{r_i}^{n+1}} - \\overline{r_i^n}}{\\Delta t} = \\frac{K}{\\Delta z^2}(\\overline{{r_{i+1}^n}} - 2\\cdot\\overline{r_i^n} + \\overline{{r_{i-1}^n}})$$\n",
    "$$\\Rightarrow \\overline{r_i^{n+1}} = \\frac{K\\cdot\\Delta t}{\\Delta z^2}(\\overline{{r_{i+1}^n}} - 2\\cdot\\overline{r_i^n} + \\overline{{r_{i-1}^n}}) + \\overline{r_i^n}$$\n",
    "With K dependent on z so actually the index values.\n",
    "\n",
    "$$\\Rightarrow \\overline{r_i^{n+1}} = \\frac{K(i)\\cdot\\Delta t}{\\Delta z^2}(\\overline{{r_{i+1}^n}} - 2\\cdot\\overline{{r_i}^n} + \\overline{{r_{i-1}^n}}) + \\overline{r_i^n}$$\n",
    "Equivalent:\n",
    "\n",
    "$$\\Rightarrow \\overline{r_i^{n+1}} = (\\frac{K(i)\\cdot\\Delta t}{\\Delta z^2}) \\cdot \\overline{r_{i+1}^n} - (1 - 2\\cdot (\\frac{K(i)\\cdot\\Delta t}{\\Delta z^2})) \\cdot \\overline{r_i^n} + (\\frac{K(i)\\cdot\\Delta t}{\\Delta z^2}) \\cdot \\overline{r_{i-1}^n}$$\n",
    "Normally we would now create a matrix A to solve\n",
    "\n",
    "$$A \\cdot \\overline{r_i^n} = \\overline{r_i^{n+1}}$$\n",
    "With $- (1 - 2\\cdot (\\frac{K(i)\\cdot\\Delta t}{\\Delta z^2}))$ at the diagonal, $(\\frac{K(i)\\cdot\\Delta t}{\\Delta z^2})$ under the diagonal and $(\\frac{K(i)\\cdot\\Delta t}{\\Delta z^2})$ over the diagonal, and all other entries $0$.\n",
    "Because $K$ depends on $z$ we unfortunately cannot do the matrix vector multiplication because we cannot get the right index. So I am going to do it with loops, a very slow variant."
   ]
  },
  {
   "cell_type": "code",
   "execution_count": 103,
   "metadata": {},
   "outputs": [],
   "source": [
    "def forward_euler(r, z, delta_t, delta_z):\n",
    "    # Create a new target vector r_t1\n",
    "    r_t1 = np.zeros(n)\n",
    "\n",
    "    for index in range(len(r)):\n",
    "        if index - 1 >= 0 and index + 1 < len(r):\n",
    "            a = (k(z[index]) * delta_t) / delta_z ** 2\n",
    "            r_t1[index] = a * (r[index + 1] - 2 * r[index] + r[index - 1]) + r[index]\n",
    "        r_t1[0] = r_t1[1]\n",
    "        r_t1[len(r) - 1] = r_t1[len(r) - 2]\n",
    "\n",
    "    return r_t1"
   ]
  },
  {
   "cell_type": "markdown",
   "source": [
    "So for forwarding the equation in time I am going to use a matrix which has the $\\overline{r_t}$ vectors as rows.\n",
    "So assume that the matrix looks like this:\n",
    "\n",
    "$$\n",
    "\\begin{matrix}\n",
    "    \\overline{r_{t=0, z0}^0}    &&  \\overline{r_{t=0, z1}^0}    && \\overline{r_{t=0, z2}^0}     && ...  \\\\\n",
    "    \\overline{r_{t=1, z0}^1}    &&  \\overline{r_{t=1, z1}^1}    && \\overline{r_{t=1, z2}^1}     && ...  \\\\\n",
    "    ...                     && ...                     && ...                       && ...  \\\\\n",
    "\\end{matrix}\n",
    "$$"
   ],
   "metadata": {
    "collapsed": false
   }
  },
  {
   "cell_type": "code",
   "execution_count": 108,
   "outputs": [],
   "source": [
    "# Create this matrix with zeros and the dimension 10xn\n",
    "r_t_n = np.zeros((10, n))\n",
    "# Copy the start vector in the first row\n",
    "r_t_n[0] = np.copy(r_t)\n",
    "deltaT = 1e-6\n",
    "steps = 10_000\n",
    "r_t_i = np.copy(r_t)\n",
    "for i in range(steps):\n",
    "    # Do the computation for each step\n",
    "    r_t_i = np.copy(forward_euler(r_t_i, height, deltaT, 1 / n))\n",
    "    if i % (steps // 10) == 0:\n",
    "        if i != 0:\n",
    "            # Write the computed vector in a row inside the matrix if the step is not 0 and i mod (#steps / 10) == 0\n",
    "            r_t_n[i // (steps // 10)] = np.copy(r_t_i)"
   ],
   "metadata": {
    "collapsed": false
   }
  },
  {
   "cell_type": "markdown",
   "source": [
    "Let us now plot the curves inside a plot."
   ],
   "metadata": {
    "collapsed": false
   }
  },
  {
   "cell_type": "code",
   "execution_count": 109,
   "outputs": [
    {
     "data": {
      "text/plain": "<Figure size 432x288 with 1 Axes>",
      "image/png": "[encoded data removed]"
     },
     "metadata": {
      "needs_background": "light"
     },
     "output_type": "display_data"
    }
   ],
   "source": [
    "import matplotlib.pyplot as plt\n",
    "\n",
    "plt.xlabel('r_t')\n",
    "plt.ylabel('z')\n",
    "for i in range(10):\n",
    "    plt.plot(r_t_n[i], height, label=f\"i = {i}, t = {(i * deltaT):.6f}\")\n",
    "\n",
    "plt.legend()\n",
    "plt.show()"
   ],
   "metadata": {
    "collapsed": false
   }
  }
 ],
 "metadata": {
  "kernelspec": {
   "display_name": "Python 3 (ipykernel)",
   "language": "python",
   "name": "python3"
  },
  "language_info": {
   "codemirror_mode": {
    "name": "ipython",
    "version": 3
   },
   "file_extension": ".py",
   "mimetype": "text/x-python",
   "name": "python",
   "nbconvert_exporter": "python",
   "pygments_lexer": "ipython3",
   "version": "3.9.13"
  }
 },
 "nbformat": 4,
 "nbformat_minor": 1
}
