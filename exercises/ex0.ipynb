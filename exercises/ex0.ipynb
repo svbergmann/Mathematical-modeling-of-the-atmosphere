{
 "cells": [
  {
   "cell_type": "markdown",
   "source": [
    "# Praktikum 0\n",
    "## Mathematical modeling of the atmosphere\n",
    "\n",
    "\n",
    "### Integrating simple closure equations for moisture"
   ],
   "metadata": {
    "collapsed": false
   }
  },
  {
   "cell_type": "markdown",
   "source": [
    "Consider the following set of 1D equations for moisture variables. The domain is $z=[0,1]$\n",
    "First, the grid-mean total water mixing ratio, $\\overline{r_t}(t,z)$, depends on the vertical flux of $r_t$, $\\overline{w'r'_t}(t,z)$:\n",
    "\n",
    "$$\\frac{\\delta \\overline{r_t}}{\\delta t} = -\\frac{\\delta}{\\delta z}\\overline{w'r'_t}$$"
   ],
   "metadata": {
    "collapsed": false
   }
  },
  {
   "cell_type": "markdown",
   "source": [
    "Second, the flux $\\overline{w'r'_t}$ is assumed to be related to $\\overline{r_t}$ by\n",
    "\n",
    "$$\\overline{w'r'_t}=-K\\frac{\\delta\\overline{r_t}}{\\delta z}$$\n",
    "\n",
    "That is, the flux is determined by down-gradient diffusion. The boundary condition at the\n",
    "boundaries $z=[0,1]$ is $\\overline{w'r'_t}=0$."
   ],
   "metadata": {
    "collapsed": false
   }
  },
  {
   "cell_type": "markdown",
   "source": [
    "Finally, the sub-grid variance of total water, $\\overline{{r'_t}^2}(t,z)$, is assumed to be adequately diagnosed by the algebraic expression\n",
    "\n",
    "$$\\overline{{r'_t}^2}=\\tau K (\\frac{\\delta \\overline{r_t}}{\\delta z})^2$$\n",
    "\n",
    "where $\\tau=1$ is a prescribed eddy turnover time, and $K=K(z)$ is a prescribed eddy diffusivity:\n",
    "\n",
    "$$K(z) = \\begin{cases} 1, & \\text{   if $z<=1/2$} \\\\ z + 1/2, & \\text{  $1/2<z<=1$}\\end{cases}$$"
   ],
   "metadata": {
    "collapsed": false
   }
  },
  {
   "cell_type": "code",
   "execution_count": 17,
   "outputs": [],
   "source": [
    "\"\"\"Assuming k(z) for z outside the boarders equals 1.\"\"\"\n",
    "\n",
    "\n",
    "def k(z):\n",
    "    if z > 1:\n",
    "        return 1\n",
    "    elif z > 0.5:\n",
    "        return z + 0.5\n",
    "    else:\n",
    "        return 1"
   ],
   "metadata": {
    "collapsed": false
   }
  },
  {
   "cell_type": "markdown",
   "source": [
    "The initial profile of total water diminishes with height above the mixed layer:\n",
    "\n",
    "$$\\overline{r_t}(t=0,z) = \\begin{cases} r_{t,sfc}, & \\text{   if $z<=1/2$} \\\\ -r_{t,sfc}(z-1/2) + r_{t,sfc}, & \\text{  $1/2<z<=1$} \\end{cases}$$\n",
    "\n",
    "where $r_{t,sfc}=10$."
   ],
   "metadata": {
    "collapsed": false
   }
  },
  {
   "cell_type": "code",
   "execution_count": 18,
   "metadata": {
    "collapsed": true
   },
   "outputs": [],
   "source": [
    "\"\"\"Assuming t_t0(z) for z outside the boarders equals 1.\"\"\"\n",
    "\n",
    "rt_srf = 10\n",
    "\n",
    "\n",
    "def r_t0(z):\n",
    "    if z > 1:\n",
    "        return 1\n",
    "    elif z > 0.5:\n",
    "        return -r_t0(z - 0.5) + rt_srf\n",
    "    else:\n",
    "        return 1"
   ]
  },
  {
   "cell_type": "markdown",
   "source": [
    "So equation (1) in (2) is now:\n",
    "\n",
    "$$\\frac{\\delta \\overline{r_t}}{\\delta t}=\\frac{\\delta}{\\delta z}(K\\cdot\\frac{\\delta \\overline{r_t}}{\\delta z})$$\n",
    "\n",
    "We will have a vector $\\overline{r_t}$ which represents the searched values."
   ],
   "metadata": {
    "collapsed": false
   }
  },
  {
   "cell_type": "code",
   "execution_count": 19,
   "outputs": [],
   "source": [
    "import numpy as np\n",
    "\n",
    "n = 10000\n",
    "# Create vector with n values which are equally spaced between 0 and 10.\n",
    "r_t = np.linspace(0, 10, n)\n",
    "\n",
    "# Set up the boundary condition.\n",
    "for i in range(0, len(r_t)):\n",
    "    r_t[i] = r_t0(r_t[i])"
   ],
   "metadata": {
    "collapsed": false
   }
  },
  {
   "cell_type": "markdown",
   "source": [
    "Exercises:\n",
    "\n",
    "- Integrate the equations forward in time using a discretization method of your choice.\n",
    "- Plot the profiles of $\\overline{r_t}$ and $\\overline{r'_t^2}$ for later times.\n",
    "    Can you explain their behavior in physical terms?\n",
    "    What do you expect the behavior will be as $t\\to\\infty$?"
   ],
   "metadata": {
    "collapsed": false
   }
  },
  {
   "cell_type": "markdown",
   "source": [
    "### First Exercise:"
   ],
   "metadata": {
    "collapsed": false
   }
  },
  {
   "cell_type": "markdown",
   "source": [
    "So we are assuming now that:\n",
    "\n",
    "$$\\frac{\\delta \\overline{r_t}}{\\delta t} \\approx \\frac{\\overline{{r_i}^{n+1}} - \\overline{r_i^n}}{\\Delta t}$$"
   ],
   "metadata": {
    "collapsed": false
   }
  },
  {
   "cell_type": "markdown",
   "source": [
    "And:\n",
    "\n",
    "$$\\frac{\\delta^2 \\overline{r_t}}{\\delta z^2} \\approx \\frac{1}{\\Delta z^2}(\\overline{{r_{i+1}^n}} - 2\\cdot\\overline{r_i^n} + \\overline{{r_{i-1}^n}})$$\n"
   ],
   "metadata": {
    "collapsed": false
   }
  },
  {
   "cell_type": "markdown",
   "source": [
    "So in conclusion\n",
    "\n",
    "$$\\frac{\\delta \\overline{r_t}}{\\delta t}=\\frac{\\delta}{\\delta z}(K\\cdot\\frac{\\delta \\overline{r_t}}{\\delta z})$$"
   ],
   "metadata": {
    "collapsed": false
   }
  },
  {
   "cell_type": "markdown",
   "source": [
    "becomes\n",
    "\n",
    "$$\\frac{\\overline{{r_i}^{n+1}} - \\overline{r_i^n}}{\\Delta t} = \\frac{K}{\\Delta z^2}(\\overline{{r_{i+1}^n}} - 2\\cdot\\overline{r_i^n} + \\overline{{r_{i-1}^n}})$$"
   ],
   "metadata": {
    "collapsed": false
   }
  },
  {
   "cell_type": "markdown",
   "source": [
    "$$\\Rightarrow \\overline{r_i^{n+1}} = \\frac{K\\cdot\\Delta t}{\\Delta z^2}(\\overline{{r_{i+1}^n}} - 2\\cdot\\overline{r_i^n} + \\overline{{r_{i-1}^n}}) + \\overline{r_i^n}$$"
   ],
   "metadata": {
    "collapsed": false
   }
  },
  {
   "cell_type": "markdown",
   "source": [
    "With K dependent on z so actually the index values.\n",
    "\n",
    "$$\\Rightarrow \\overline{r_i^{n+1}} = \\frac{K(i)\\cdot\\Delta t}{\\Delta z^2}(\\overline{{r_{i+1}^n}} - 2\\cdot\\overline{{r_i}^n} + \\overline{{r_{i-1}^n}}) + \\overline{r_i^n}$$"
   ],
   "metadata": {
    "collapsed": false
   }
  },
  {
   "cell_type": "markdown",
   "source": [
    "Equivalent:\n",
    "\n",
    "$$\\Rightarrow \\overline{r_i^{n+1}} = (\\frac{K(i)\\cdot\\Delta t}{\\Delta z^2}) \\cdot \\overline{r_{i+1}^n} - (1 - 2\\cdot (\\frac{K(i)\\cdot\\Delta t}{\\Delta z^2})) \\cdot \\overline{r_i^n} + (\\frac{K(i)\\cdot\\Delta t}{\\Delta z^2}) \\cdot \\overline{r_{i-1}^n}$$"
   ],
   "metadata": {
    "collapsed": false
   }
  },
  {
   "cell_type": "markdown",
   "source": [
    "Normally we would now create a matrix A to solve\n",
    "\n",
    "$$A \\cdot \\overline{r_i^n} = \\overline{r_i^{n+1}}$$"
   ],
   "metadata": {
    "collapsed": false
   }
  },
  {
   "cell_type": "markdown",
   "source": [
    "With $- (1 - 2\\cdot (\\frac{K(i)\\cdot\\Delta t}{\\Delta z^2}))$ at the diagonal, $(\\frac{K(i)\\cdot\\Delta t}{\\Delta z^2})$ under the diagonal and $(\\frac{K(i)\\cdot\\Delta t}{\\Delta z^2})$ over the diagonal, and all other entries $0$.\n",
    "Furthermore assuming that $\\frac{\\Delta t}{\\Delta z^2}=1$.\n",
    "Because $K$ depends on $z$ we unfortunately cannot do the matrix vector multiplication because we cannot get the right index. So I am going to do it with loops, a very slow variant."
   ],
   "metadata": {
    "collapsed": false
   }
  },
  {
   "cell_type": "code",
   "execution_count": 21,
   "outputs": [],
   "source": [
    "def forward_euler(r):\n",
    "    # Create a new target vector r_t1\n",
    "    r_t1 = np.zeros(n)\n",
    "\n",
    "    for index in range(0, len(r)):\n",
    "        k_of_index = k(index)\n",
    "        first = k_of_index * r[index + 1] if index + 1 <= len(r) else 0\n",
    "        second = -(1 - 2 * k_of_index) * r[index]\n",
    "        third = k_of_index * r[index - 1] if index < 1 >= 0 else 0\n",
    "        r_t1[index] = first + second + third\n",
    "\n",
    "    return r_t1"
   ],
   "metadata": {
    "collapsed": false
   }
  },
  {
   "cell_type": "code",
   "execution_count": 22,
   "outputs": [
    {
     "data": {
      "text/plain": "<Figure size 432x288 with 1 Axes>",
      "image/png": "[encoded data removed]"
     },
     "metadata": {
      "needs_background": "light"
     },
     "output_type": "display_data"
    },
    {
     "ename": "IndexError",
     "evalue": "index 10000 is out of bounds for axis 0 with size 10000",
     "output_type": "error",
     "traceback": [
      "\u001B[1;31m---------------------------------------------------------------------------\u001B[0m",
      "\u001B[1;31mIndexError\u001B[0m                                Traceback (most recent call last)",
      "Input \u001B[1;32mIn [22]\u001B[0m, in \u001B[0;36m<cell line: 3>\u001B[1;34m()\u001B[0m\n\u001B[0;32m      4\u001B[0m plt\u001B[38;5;241m.\u001B[39mplot(r_t)\n\u001B[0;32m      5\u001B[0m plt\u001B[38;5;241m.\u001B[39mshow()\n\u001B[1;32m----> 6\u001B[0m r_t \u001B[38;5;241m=\u001B[39m np\u001B[38;5;241m.\u001B[39mcopy(\u001B[43mforward_euler\u001B[49m\u001B[43m(\u001B[49m\u001B[43mr_t\u001B[49m\u001B[43m)\u001B[49m)\n",
      "Input \u001B[1;32mIn [21]\u001B[0m, in \u001B[0;36mforward_euler\u001B[1;34m(r)\u001B[0m\n\u001B[0;32m      5\u001B[0m \u001B[38;5;28;01mfor\u001B[39;00m index \u001B[38;5;129;01min\u001B[39;00m \u001B[38;5;28mrange\u001B[39m(\u001B[38;5;241m0\u001B[39m, \u001B[38;5;28mlen\u001B[39m(r)):\n\u001B[0;32m      6\u001B[0m     k_of_index \u001B[38;5;241m=\u001B[39m k(index)\n\u001B[1;32m----> 7\u001B[0m     first \u001B[38;5;241m=\u001B[39m k_of_index \u001B[38;5;241m*\u001B[39m \u001B[43mr\u001B[49m\u001B[43m[\u001B[49m\u001B[43mindex\u001B[49m\u001B[43m \u001B[49m\u001B[38;5;241;43m+\u001B[39;49m\u001B[43m \u001B[49m\u001B[38;5;241;43m1\u001B[39;49m\u001B[43m]\u001B[49m \u001B[38;5;28;01mif\u001B[39;00m index \u001B[38;5;241m+\u001B[39m \u001B[38;5;241m1\u001B[39m \u001B[38;5;241m<\u001B[39m\u001B[38;5;241m=\u001B[39m \u001B[38;5;28mlen\u001B[39m(r) \u001B[38;5;28;01melse\u001B[39;00m \u001B[38;5;241m0\u001B[39m\n\u001B[0;32m      8\u001B[0m     second \u001B[38;5;241m=\u001B[39m \u001B[38;5;241m-\u001B[39m(\u001B[38;5;241m1\u001B[39m \u001B[38;5;241m-\u001B[39m \u001B[38;5;241m2\u001B[39m \u001B[38;5;241m*\u001B[39m k_of_index) \u001B[38;5;241m*\u001B[39m r[index]\n\u001B[0;32m      9\u001B[0m     third \u001B[38;5;241m=\u001B[39m k_of_index \u001B[38;5;241m*\u001B[39m r[index \u001B[38;5;241m-\u001B[39m \u001B[38;5;241m1\u001B[39m] \u001B[38;5;28;01mif\u001B[39;00m index \u001B[38;5;241m<\u001B[39m \u001B[38;5;241m1\u001B[39m \u001B[38;5;241m>\u001B[39m\u001B[38;5;241m=\u001B[39m \u001B[38;5;241m0\u001B[39m \u001B[38;5;28;01melse\u001B[39;00m \u001B[38;5;241m0\u001B[39m\n",
      "\u001B[1;31mIndexError\u001B[0m: index 10000 is out of bounds for axis 0 with size 10000"
     ]
    }
   ],
   "source": [
    "import matplotlib.pyplot as plt\n",
    "\n",
    "for i in range(0,10):\n",
    "    plt.plot(r_t)\n",
    "    plt.show()\n",
    "    r_t = np.copy(forward_euler(r_t))"
   ],
   "metadata": {
    "collapsed": false
   }
  },
  {
   "cell_type": "code",
   "execution_count": null,
   "outputs": [],
   "source": [],
   "metadata": {
    "collapsed": false
   }
  }
 ],
 "metadata": {
  "kernelspec": {
   "display_name": "Python 3",
   "language": "python",
   "name": "python3"
  },
  "language_info": {
   "codemirror_mode": {
    "name": "ipython",
    "version": 2
   },
   "file_extension": ".py",
   "mimetype": "text/x-python",
   "name": "python",
   "nbconvert_exporter": "python",
   "pygments_lexer": "ipython2",
   "version": "2.7.6"
  }
 },
 "nbformat": 4,
 "nbformat_minor": 0
}
