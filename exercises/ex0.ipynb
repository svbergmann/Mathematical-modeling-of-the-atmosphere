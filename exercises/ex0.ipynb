{
 "cells": [
  {
   "cell_type": "markdown",
   "metadata": {},
   "source": [
    "# Praktikum 0\n",
    "## Mathematical modeling of the atmosphere\n",
    "\n",
    "\n",
    "### Integrating simple closure equations for moisture"
   ]
  },
  {
   "cell_type": "markdown",
   "metadata": {},
   "source": [
    "Consider the following set of 1D equations for moisture variables. The domain is $z=[0,1]$\n",
    "First, the grid-mean total water mixing ratio, $\\overline{r_t}(t,z)$, depends on the vertical flux of $r_t$, $\\overline{w'r'_t}(t,z)$:\n",
    "\n",
    "$$\\frac{\\delta \\overline{r_t}}{\\delta t} = -\\frac{\\delta}{\\delta z}\\overline{w'r'_t}$$"
   ]
  },
  {
   "cell_type": "markdown",
   "metadata": {},
   "source": [
    "Second, the flux $\\overline{w'r'_t}$ is assumed to be related to $\\overline{r_t}$ by\n",
    "\n",
    "$$\\overline{w'r'_t}=-K\\frac{\\delta\\overline{r_t}}{\\delta z}$$\n",
    "\n",
    "That is, the flux is determined by down-gradient diffusion. The boundary condition at the\n",
    "boundaries $z=[0,1]$ is $\\overline{w'r'_t}=0$."
   ]
  },
  {
   "cell_type": "markdown",
   "metadata": {},
   "source": [
    "Finally, the sub-grid variance of total water, $\\overline{{r'_t}^2}(t,z)$, is assumed to be adequately diagnosed by the algebraic expression\n",
    "\n",
    "$$\\overline{{r'_t}^2}=\\tau K (\\frac{\\delta \\overline{r_t}}{\\delta z})^2$$\n",
    "\n",
    "where $\\tau=1$ is a prescribed eddy turnover time, and $K=K(z)$ is a prescribed eddy diffusivity:\n",
    "\n",
    "$$K(z) = \\begin{cases} 1, & \\text{   if $z<=1/2$} \\\\ z + 1/2, & \\text{  $1/2<z<=1$}\\end{cases}$$"
   ]
  },
  {
   "cell_type": "markdown",
   "metadata": {},
   "source": [
    "The initial profile of total water diminishes with height above the mixed layer:\n",
    "\n",
    "$$\\overline{r_t}(t=0,z) = \\begin{cases} r_{t,sfc}, & \\text{   if $z<=1/2$} \\\\ -r_{t,sfc}(z-1/2) + r_{t,sfc}, & \\text{  $1/2<z<=1$} \\end{cases}$$\n",
    "\n",
    "where $r_{t,sfc}=10$."
   ]
  },
  {
   "cell_type": "code",
   "execution_count": 1,
   "metadata": {},
   "outputs": [],
   "source": [
    "\"\"\"Assuming t_t0(z) for z outside the boarders equals 1.\"\"\"\n",
    "\n",
    "rt_srf = 10\n",
    "\n",
    "\n",
    "def r_t0(z):\n",
    "    if z > 1:\n",
    "        return 1\n",
    "    elif z > 0.5:\n",
    "        return -rt_srf * (z - 0.5) + rt_srf\n",
    "    else:\n",
    "        return rt_srf"
   ]
  },
  {
   "cell_type": "code",
   "execution_count": 2,
   "outputs": [],
   "source": [
    "\"\"\"Assuming k(z) for z outside the boarders equals 1.\"\"\"\n",
    "\n",
    "\n",
    "def k(z):\n",
    "    if z > 1:\n",
    "        return 1\n",
    "    elif z > 0.5:\n",
    "        return z + 0.5\n",
    "    else:\n",
    "        return 1"
   ],
   "metadata": {
    "collapsed": false
   }
  },
  {
   "cell_type": "markdown",
   "metadata": {},
   "source": [
    "So equation (1) in (2) is now:\n",
    "\n",
    "$$\\frac{\\delta \\overline{r_t}}{\\delta t}=\\frac{\\delta}{\\delta z}(K\\cdot\\frac{\\delta \\overline{r_t}}{\\delta z})$$\n",
    "\n",
    "We will have a vector $\\overline{r_t}$ which represents the searched values."
   ]
  },
  {
   "cell_type": "code",
   "execution_count": 3,
   "metadata": {},
   "outputs": [
    {
     "name": "stdout",
     "output_type": "stream",
     "text": [
      "[10.         10.         10.         10.         10.          9.44444444\n",
      "  8.33333333  7.22222222  6.11111111  5.        ]\n"
     ]
    }
   ],
   "source": [
    "import numpy as np\n",
    "\n",
    "n = 10\n",
    "# Create vector with n values which are equally spaced between 0 and 10.\n",
    "r_t = np.linspace(0, 1, n)\n",
    "\n",
    "# Create a height vector with the same dimension, too.\n",
    "height = np.copy(r_t)\n",
    "\n",
    "# Set up the initial condition.\n",
    "for i in range(0, len(r_t)):\n",
    "    r_t[i] = r_t0(height[i])\n",
    "\n",
    "print(r_t)"
   ]
  },
  {
   "cell_type": "markdown",
   "metadata": {},
   "source": [
    "Exercises:\n",
    "\n",
    "- Integrate the equations forward in time using a discretization method of your choice.\n",
    "- Plot the profiles of $\\overline{r_t}$ and $\\overline{r'_t^2}$ for later times.\n",
    "    Can you explain their behavior in physical terms?\n",
    "    What do you expect the behavior will be as $t\\to\\infty$?"
   ]
  },
  {
   "cell_type": "markdown",
   "metadata": {},
   "source": [
    "So we are assuming now that:\n",
    "\n",
    "$$\\frac{\\delta \\overline{r_t}}{\\delta t} \\approx \\frac{\\overline{{r_i}^{n+1}} - \\overline{r_i^n}}{\\Delta t}$$"
   ]
  },
  {
   "cell_type": "markdown",
   "metadata": {},
   "source": [
    "And:\n",
    "\n",
    "$$\\frac{\\delta^2 \\overline{r_t}}{\\delta z^2} \\approx \\frac{1}{\\Delta z^2}(\\overline{{r_{i+1}^n}} - 2\\cdot\\overline{r_i^n} + \\overline{{r_{i-1}^n}})$$\n"
   ]
  },
  {
   "cell_type": "markdown",
   "metadata": {},
   "source": [
    "So in conclusion\n",
    "\n",
    "$$\\frac{\\delta \\overline{r_t}}{\\delta t}=\\frac{\\delta}{\\delta z}(K\\cdot\\frac{\\delta \\overline{r_t}}{\\delta z})$$"
   ]
  },
  {
   "cell_type": "markdown",
   "source": [
    "### First Exercise:"
   ],
   "metadata": {
    "collapsed": false
   }
  },
  {
   "cell_type": "markdown",
   "metadata": {},
   "source": [
    "becomes\n",
    "\n",
    "$$\\frac{\\overline{{r_i}^{n+1}} - \\overline{r_i^n}}{\\Delta t} = \\frac{K}{\\Delta z^2}(\\overline{{r_{i+1}^n}} - 2\\cdot\\overline{r_i^n} + \\overline{{r_{i-1}^n}})$$"
   ]
  },
  {
   "cell_type": "markdown",
   "metadata": {},
   "source": [
    "$$\\Rightarrow \\overline{r_i^{n+1}} = \\frac{K\\cdot\\Delta t}{\\Delta z^2}(\\overline{{r_{i+1}^n}} - 2\\cdot\\overline{r_i^n} + \\overline{{r_{i-1}^n}}) + \\overline{r_i^n}$$"
   ]
  },
  {
   "cell_type": "markdown",
   "metadata": {},
   "source": [
    "With K dependent on z so actually the index values.\n",
    "\n",
    "$$\\Rightarrow \\overline{r_i^{n+1}} = \\frac{K(i)\\cdot\\Delta t}{\\Delta z^2}(\\overline{{r_{i+1}^n}} - 2\\cdot\\overline{{r_i}^n} + \\overline{{r_{i-1}^n}}) + \\overline{r_i^n}$$"
   ]
  },
  {
   "cell_type": "markdown",
   "metadata": {},
   "source": [
    "Equivalent:\n",
    "\n",
    "$$\\Rightarrow \\overline{r_i^{n+1}} = (\\frac{K(i)\\cdot\\Delta t}{\\Delta z^2}) \\cdot \\overline{r_{i+1}^n} - (1 - 2\\cdot (\\frac{K(i)\\cdot\\Delta t}{\\Delta z^2})) \\cdot \\overline{r_i^n} + (\\frac{K(i)\\cdot\\Delta t}{\\Delta z^2}) \\cdot \\overline{r_{i-1}^n}$$"
   ]
  },
  {
   "cell_type": "markdown",
   "metadata": {},
   "source": [
    "Normally we would now create a matrix A to solve\n",
    "\n",
    "$$A \\cdot \\overline{r_i^n} = \\overline{r_i^{n+1}}$$"
   ]
  },
  {
   "cell_type": "markdown",
   "metadata": {},
   "source": [
    "With $- (1 - 2\\cdot (\\frac{K(i)\\cdot\\Delta t}{\\Delta z^2}))$ at the diagonal, $(\\frac{K(i)\\cdot\\Delta t}{\\Delta z^2})$ under the diagonal and $(\\frac{K(i)\\cdot\\Delta t}{\\Delta z^2})$ over the diagonal, and all other entries $0$.\n",
    "Furthermore assuming that $\\frac{\\Delta t}{\\Delta z^2}=1$.\n",
    "Because $K$ depends on $z$ we unfortunately cannot do the matrix vector multiplication because we cannot get the right index. So I am going to do it with loops, a very slow variant."
   ]
  },
  {
   "cell_type": "code",
   "execution_count": 4,
   "metadata": {},
   "outputs": [],
   "source": [
    "def forward_euler(r, z):\n",
    "    # Create a new target vector r_t1\n",
    "    r_t1 = np.zeros(n)\n",
    "\n",
    "    for index in range(len(r)):\n",
    "        k_of_z = k(z[i])\n",
    "        if index + 1 < len(r):\n",
    "            first = k_of_z * r[index + 1]\n",
    "        else:\n",
    "            first = 0\n",
    "        second = -(1 - 2 * k_of_z) * r[index]\n",
    "        if index - 1 >= 0:\n",
    "            third = k_of_z * r[index - 1]\n",
    "        else:\n",
    "            third = 0\n",
    "        r_t1[index] = first + second + third\n",
    "\n",
    "    return r_t1"
   ]
  },
  {
   "cell_type": "code",
   "execution_count": null,
   "metadata": {
    "pycharm": {
     "is_executing": true
    }
   },
   "outputs": [],
   "source": [
    "import matplotlib.pyplot as plt\n",
    "%matplotlib inline\n",
    "\n",
    "fig, axs = plt.subplots(nrows=5, ncols=2, figsize=(10, 10), constrained_layout=True)\n",
    "for i in range(10):\n",
    "    ax = axs[i // 2, i % 2]\n",
    "    ax.plot(height, r_t)\n",
    "    ax.set(xlabel='z', ylabel='r_t', title=f\"t={i}\")\n",
    "    r_t = np.copy(forward_euler(r_t, height))\n",
    "\n",
    "plt.show()"
   ]
  },
  {
   "cell_type": "code",
   "execution_count": null,
   "metadata": {},
   "outputs": [],
   "source": []
  },
  {
   "cell_type": "code",
   "execution_count": null,
   "metadata": {},
   "outputs": [],
   "source": []
  },
  {
   "cell_type": "code",
   "execution_count": null,
   "outputs": [],
   "source": [],
   "metadata": {
    "collapsed": false
   }
  }
 ],
 "metadata": {
  "kernelspec": {
   "display_name": "Python 3 (ipykernel)",
   "language": "python",
   "name": "python3"
  },
  "language_info": {
   "codemirror_mode": {
    "name": "ipython",
    "version": 3
   },
   "file_extension": ".py",
   "mimetype": "text/x-python",
   "name": "python",
   "nbconvert_exporter": "python",
   "pygments_lexer": "ipython3",
   "version": "3.9.13"
  }
 },
 "nbformat": 4,
 "nbformat_minor": 1
}
