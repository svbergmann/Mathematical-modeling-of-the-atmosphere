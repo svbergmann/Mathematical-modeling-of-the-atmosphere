{
 "cells": [
  {
   "cell_type": "markdown",
   "source": [
    "# Problem Set 5"
   ],
   "metadata": {
    "collapsed": false
   }
  },
  {
   "cell_type": "markdown",
   "source": [
    "## Problem 1: Transformation of samples by use of the Cholesky decomposition"
   ],
   "metadata": {
    "collapsed": false
   }
  },
  {
   "cell_type": "markdown",
   "source": [
    "Suppose that a covariance matrix is given by\n",
    "$$\\Sigma=\\left[\\begin{matrix}1&r_{12}\\\\r_{12}&1\\end{matrix}\\right].$$\n",
    "Then the Cholesky matrix L is given by\n",
    "$$L=\\left[\\begin{matrix}1&0\\\\r_{12}&\\sqrt{1-r_{12}^2}\\end{matrix}\\right]$$"
   ],
   "metadata": {
    "collapsed": false
   }
  },
  {
   "cell_type": "markdown",
   "source": [
    "1) Verify, by direct computation, that $LL^T = \\Sigma$."
   ],
   "metadata": {
    "collapsed": false
   }
  },
  {
   "cell_type": "markdown",
   "source": [
    "2) Now suppose that the desired PDF is positively correlated, with $r_{12} = 0.99$, and it has zero mean: $\\mu = 0$.\n",
    "Use the formula $X = L · Y + \\mu$ to sketch how the Cholesky decomposition $L$ maps the following four points, $Y$ — $[1,1]^T , [1,−1]^T , [−1,−1]^T , [−1,1]^T$ — into $X$.\n",
    "Does the distribution of points $X$ look positively correlated?\n",
    "Does it matter whether $X, Y$, and $\\mu$ are treated as row or column vectors?"
   ],
   "metadata": {
    "collapsed": false
   }
  },
  {
   "cell_type": "code",
   "execution_count": 9,
   "metadata": {
    "collapsed": true
   },
   "outputs": [
    {
     "name": "stdout",
     "output_type": "stream",
     "text": [
      "Y=[1 1]\n",
      "X=L*Y+mu = [1.         1.13106736]\n",
      "Y=[ 1 -1]\n",
      "X=L*Y+mu = [1.         0.84893264]\n",
      "Y=[-1 -1]\n",
      "X=L*Y+mu = [-1.         -1.13106736]\n",
      "Y=[-1  1]\n",
      "X=L*Y+mu = [-1.         -0.84893264]\n"
     ]
    }
   ],
   "source": [
    "import numpy as np\n",
    "Sigma = lambda r12: np.array([[1, r12],[r12, 1]])\n",
    "L = lambda r12: np.array([[1, 0],[r12, np.sqrt(1-r12**2)]])\n",
    "r12 = 0.99\n",
    "mu = 0\n",
    "points=[np.array([1,1]), np.array([1, -1]), np.array([-1,-1]), np.array([-1, 1])]\n",
    "\n",
    "for Y in points:\n",
    "    print(f'Y={Y}')\n",
    "    print(f'X=L*Y+mu = {L(r12).dot(Y) + mu}')"
   ]
  },
  {
   "cell_type": "markdown",
   "source": [
    "3) Repeat part 2), but let $r_{12} = −0.99$. Does the resulting distribution look negatively correlated?"
   ],
   "metadata": {
    "collapsed": false
   }
  },
  {
   "cell_type": "code",
   "execution_count": 10,
   "outputs": [
    {
     "name": "stdout",
     "output_type": "stream",
     "text": [
      "Y=[1 1]\n",
      "X=L*Y+mu = [ 1.         -0.84893264]\n",
      "Y=[ 1 -1]\n",
      "X=L*Y+mu = [ 1.         -1.13106736]\n",
      "Y=[-1 -1]\n",
      "X=L*Y+mu = [-1.          0.84893264]\n",
      "Y=[-1  1]\n",
      "X=L*Y+mu = [-1.          1.13106736]\n"
     ]
    }
   ],
   "source": [
    "r12 = -0.99\n",
    "for Y in points:\n",
    "    print(f'Y={Y}')\n",
    "    print(f'X=L*Y+mu = {L(r12).dot(Y) + mu}')"
   ],
   "metadata": {
    "collapsed": false
   }
  }
 ],
 "metadata": {
  "kernelspec": {
   "display_name": "Python 3",
   "language": "python",
   "name": "python3"
  },
  "language_info": {
   "codemirror_mode": {
    "name": "ipython",
    "version": 2
   },
   "file_extension": ".py",
   "mimetype": "text/x-python",
   "name": "python",
   "nbconvert_exporter": "python",
   "pygments_lexer": "ipython2",
   "version": "2.7.6"
  }
 },
 "nbformat": 4,
 "nbformat_minor": 0
}
