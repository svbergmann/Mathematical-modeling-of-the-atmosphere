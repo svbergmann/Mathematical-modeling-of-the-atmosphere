{
 "cells": [
  {
   "cell_type": "markdown",
   "source": [
    "# Problem Set 7"
   ],
   "metadata": {
    "collapsed": false
   }
  },
  {
   "cell_type": "markdown",
   "source": [
    "Suppose that our subgrid distribution is given by $P(x) = \\mathscr{N}(0, \\sigma^2)$ and our autoconversion\n",
    "parameterization is given by $f(x) = H(x) \\cdot x^2$."
   ],
   "metadata": {
    "collapsed": false
   }
  },
  {
   "cell_type": "code",
   "execution_count": 15,
   "outputs": [
    {
     "data": {
      "text/plain": "<Figure size 400x200 with 1 Axes>",
      "image/png": "[encoded data removed]"
     },
     "metadata": {},
     "output_type": "display_data"
    }
   ],
   "source": [
    "import numpy as np\n",
    "\n",
    "mu = 0\n",
    "H = lambda x: 1 if x > 0 else 0\n",
    "f = lambda x: (1 if x > 0 else 0) * x ** 2\n",
    "\n",
    "\n",
    "def normal_dist(x, mean, sd):\n",
    "    import numpy as np\n",
    "    return (np.pi * sd) * np.exp(-0.5 * ((x - mean) / sd) ** 2)\n",
    "\n",
    "from matplotlib import pyplot as plt\n",
    "\n",
    "points = np.linspace(start=-5, stop=5, num=100)\n",
    "f_x = [f(points[i]) for i in range(len(points))]\n",
    "fig = plt.figure(figsize=(4, 2))\n",
    "plt.plot(points, f_x, label='f(x)')\n",
    "plt.plot(points, normal_dist(x=points, mean=0, sd=np.std(points)), label='N(0,std(points))')\n",
    "plt.show()"
   ],
   "metadata": {
    "collapsed": false
   }
  },
  {
   "cell_type": "markdown",
   "source": [
    "i) Find the optimal importance sampling density, $q(x)$. Be sure that $q(x)$ is normalized."
   ],
   "metadata": {
    "collapsed": false
   }
  },
  {
   "cell_type": "code",
   "execution_count": null,
   "metadata": {
    "collapsed": true
   },
   "outputs": [],
   "source": []
  }
 ],
 "metadata": {
  "kernelspec": {
   "display_name": "Python 3",
   "language": "python",
   "name": "python3"
  },
  "language_info": {
   "codemirror_mode": {
    "name": "ipython",
    "version": 2
   },
   "file_extension": ".py",
   "mimetype": "text/x-python",
   "name": "python",
   "nbconvert_exporter": "python",
   "pygments_lexer": "ipython2",
   "version": "2.7.6"
  }
 },
 "nbformat": 4,
 "nbformat_minor": 0
}
