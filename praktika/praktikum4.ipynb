{
 "cells": [
  {
   "cell_type": "markdown",
   "source": [
    "# Praktikum 4, Monte Carlo"
   ],
   "metadata": {
    "collapsed": false
   }
  },
  {
   "cell_type": "markdown",
   "source": [
    "## Importance sampling"
   ],
   "metadata": {
    "collapsed": false
   }
  },
  {
   "cell_type": "markdown",
   "source": [
    "Apply importance sampling to the autoconversion integral that you have studied previously.\n",
    "The function to integrate, $f(\\chi,N_c)$, is a function of $\\chi$, which is related to cloud water mixing ratio, and $N_c$, which is the cloud droplet number.\n",
    "The PDF, $P(\\chi,N_c)$, is a normal-lognormal;\n",
    "it is given by Eqns. (31) and (32) in Larson and Griffin (2013), except that you should include $N_{cn}$ in the denominator of the prefactor."
   ],
   "metadata": {
    "collapsed": false
   }
  },
  {
   "cell_type": "code",
   "execution_count": null,
   "outputs": [],
   "source": [
    "def f(chi, N_c, alpha=2.47, beta=-1.79):\n",
    "    \"\"\"Autoconversion.\n",
    "\n",
    "    Autoconversion is the process by which small cloud droplets grow in size\n",
    "    and become rain drops. Therefore, if there is more cloud water or larger\n",
    "    drops, rain forms more easily.\n",
    "\n",
    "    Args:\n",
    "        chi (float): Cloud water mixing ratio.\n",
    "        alpha (float): Often take to 2.47\n",
    "        beta (float): Often take to -1.79\n",
    "        N_c (float): Number of Cloud droplets.\n",
    "    \"\"\"\n",
    "    from numpy import nan_to_num\n",
    "    from numpy import power\n",
    "    from numpy import heaviside\n",
    "    return nan_to_num(heaviside(chi, 1) * np.power(chi, alpha) * power(N_c, beta))"
   ],
   "metadata": {
    "collapsed": false
   }
  },
  {
   "cell_type": "markdown",
   "source": [
    "1. Exponential tilting.\n",
    "As the importance function $q$, choose a normal-lognormal PDF, like\n",
    "$P(\\chi,N_c)$, but with more favorable values of the means $\\chi$ and $N_c$.\n",
    "Experiment with pairs of mean values until you find a pair that produces reduced noise."
   ],
   "metadata": {
    "collapsed": false
   }
  },
  {
   "cell_type": "code",
   "execution_count": 1,
   "outputs": [
    {
     "name": "stdout",
     "output_type": "stream",
     "text": [
      "[[-0.21719191 -0.28771792 -0.11675898 ... -0.23008609  0.07664026\n",
      "   0.85591001]\n",
      " [ 0.8142817   0.97478417  0.8737655  ...  0.88963009  1.18980109\n",
      "   2.42544397]]\n"
     ]
    }
   ],
   "source": [
    "import numpy as np\n",
    "from scipy.stats import norm\n",
    "\n",
    "\n",
    "def a_chi_n_c(chi, n_c, alpha=2.47, beta=-1.79):\n",
    "    return np.nan_to_num(np.heaviside(chi, 1) * np.power(chi, alpha) * np.power(n_c, beta))\n",
    "\n",
    "\n",
    "def draw_from_uniform_dist(n: int):\n",
    "    return np.random.uniform(size=n)\n",
    "\n",
    "\n",
    "def transform_to_standard_normal(points):\n",
    "    return norm.ppf(points)\n",
    "\n",
    "\n",
    "def create_chi_n_c(num_points: int):\n",
    "    chi = np.array(transform_to_standard_normal(draw_from_uniform_dist(num_points)))\n",
    "    n_c = np.array(transform_to_standard_normal(draw_from_uniform_dist(num_points)))\n",
    "    return np.array([chi, n_c])\n",
    "\n",
    "\n",
    "def transform_to_correlated_by_cholesky(sigma_x, sigma_y, r_12, Y, my):\n",
    "    L = np.array([[sigma_x, 0], [sigma_y * r_12, sigma_y * np.sqrt(1 - (r_12 ** 2))]])\n",
    "    return L.dot(Y) + my\n",
    "\n",
    "\n",
    "def lognormal_correlated_bivariate_dist(correlated_bivariate_dist):\n",
    "    return np.array([correlated_bivariate_dist[0].copy(), np.exp(correlated_bivariate_dist[1])])\n",
    "\n",
    "\n",
    "def generate_X(num_points=100, sigma_x=1, sigma_y=1, r_12=0.99, mu=0):\n",
    "    return lognormal_correlated_bivariate_dist(\n",
    "        transform_to_correlated_by_cholesky(sigma_x, sigma_y, r_12, create_chi_n_c(num_points), mu))"
   ],
   "metadata": {
    "collapsed": false
   }
  },
  {
   "cell_type": "code",
   "execution_count": 19,
   "outputs": [
    {
     "data": {
      "text/plain": "<Figure size 640x480 with 1 Axes>",
      "image/png": "[encoded data removed]"
     },
     "metadata": {},
     "output_type": "display_data"
    }
   ],
   "source": [
    "from matplotlib import pyplot as plt\n",
    "\n",
    "X = generate_X(num_points=1000, sigma_x=1, sigma_y=5, r_12=0.99, mu=0)\n",
    "\n",
    "points_x = np.linspace(start=0, stop=len(X[0]), num=len(X[0]))\n",
    "plt.plot()\n",
    "plt.scatter(points_x, X[0], s=0.5, label='normal correlated dist')\n",
    "plt.scatter(points_x, X[1], s=0.5, label='lognormal correlated dist')\n",
    "plt.plot(points_x, a_chi_n_c(chi=points_x, n_c=12), label = 'a_chi_n_c(points, 12)')\n",
    "plt.legend()\n",
    "plt.show()"
   ],
   "metadata": {
    "collapsed": false
   }
  },
  {
   "cell_type": "markdown",
   "source": [],
   "metadata": {
    "collapsed": false
   }
  },
  {
   "cell_type": "code",
   "execution_count": 44,
   "outputs": [],
   "source": [
    "from scipy.special import gamma, pbdv\n",
    "\n",
    "\n",
    "def exact_average_autoconversion_rate(my_n_c, my_chi, sigma_chi, sigma_n_c, r_chi_n_c, alpha, beta):\n",
    "    return (1 / (np.sqrt(2 * np.pi))) * (sigma_chi ** alpha) * np.exp(\n",
    "        (my_n_c * beta) + ((1 / 2) * sigma_n_c ** 2 * beta ** 2) - (\n",
    "                (1 / 4) * ((my_chi / sigma_chi) + r_chi_n_c * sigma_n_c * beta) ** 2)) * gamma(alpha + 1) * \\\n",
    "        pbdv(-(alpha + 1), -((my_chi / sigma_chi) + r_chi_n_c * sigma_n_c * beta))[0]\n",
    "\n",
    "\n",
    "alpha = 2.47\n",
    "beta = -1.79"
   ],
   "metadata": {
    "collapsed": false
   }
  },
  {
   "cell_type": "code",
   "execution_count": null,
   "outputs": [],
   "source": [
    "def P(r_rn, N_rn):\n",
    "    np.power(2 * np.pi)"
   ],
   "metadata": {
    "collapsed": false
   }
  },
  {
   "cell_type": "markdown",
   "source": [],
   "metadata": {
    "collapsed": false
   }
  }
 ],
 "metadata": {
  "kernelspec": {
   "display_name": "Python 3",
   "language": "python",
   "name": "python3"
  },
  "language_info": {
   "codemirror_mode": {
    "name": "ipython",
    "version": 2
   },
   "file_extension": ".py",
   "mimetype": "text/x-python",
   "name": "python",
   "nbconvert_exporter": "python",
   "pygments_lexer": "ipython2",
   "version": "2.7.6"
  }
 },
 "nbformat": 4,
 "nbformat_minor": 0
}
