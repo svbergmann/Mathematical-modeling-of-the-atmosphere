{
 "cells": [
  {
   "cell_type": "markdown",
   "source": [
    "# Praktikum 1\n",
    "\n",
    "## Mathematical Modeling of the Atmosphere"
   ],
   "metadata": {
    "collapsed": false
   }
  },
  {
   "cell_type": "markdown",
   "source": [
    "2.1 Draw $N$ random points from a uniform distribution spanning $(0,1)$."
   ],
   "metadata": {
    "collapsed": false
   }
  },
  {
   "cell_type": "code",
   "execution_count": 2,
   "outputs": [],
   "source": [
    "def draw(n: int):\n",
    "\tfrom numpy import random\n",
    "\treturn random.uniform(n)"
   ],
   "metadata": {
    "collapsed": false
   }
  },
  {
   "cell_type": "markdown",
   "source": [
    "2.2 Then transform those points to a univariate standard normal distribution, $\\mathcal{N}(0,1)$, by using the inverse cumulative distribution function of a standard normal. To do so in python, you can use, e.g., the ``norm.ppf`` function in the ``scypy.stats`` library."
   ],
   "metadata": {
    "collapsed": false
   }
  },
  {
   "cell_type": "code",
   "execution_count": null,
   "outputs": [],
   "source": [
    "def transform(points):\n",
    "\tfrom scipy.stats import norm\n",
    "\treturn norm.ppf(points)"
   ],
   "metadata": {
    "collapsed": false
   }
  },
  {
   "cell_type": "markdown",
   "source": [
    "3 Transform the $N$ points from the standard normal distribution to a normal distribution with mean 0 and standard deviation $\\sigma$."
   ],
   "metadata": {
    "collapsed": false
   }
  },
  {
   "cell_type": "code",
   "execution_count": null,
   "outputs": [],
   "source": [
    "def sigma_transform(sigma: float, points):\n",
    "\treturn sigma * points"
   ],
   "metadata": {
    "collapsed": false
   }
  },
  {
   "cell_type": "markdown",
   "source": [
    "4 Write a python function that computes $f(x)$."
   ],
   "metadata": {
    "collapsed": false
   }
  },
  {
   "cell_type": "code",
   "execution_count": 1,
   "outputs": [],
   "source": [
    "H = lambda x: 1 if x > 0 else 0"
   ],
   "metadata": {
    "collapsed": false
   }
  },
  {
   "cell_type": "code",
   "execution_count": null,
   "outputs": [],
   "source": [
    "def f(x, m):\n",
    "\treturn H(x) * x ** m"
   ],
   "metadata": {
    "collapsed": false
   }
  },
  {
   "cell_type": "markdown",
   "source": [
    "5 Compute the integral $I$ using simple Monte Carlo integration with $N$ sample points. Call the estimator $\\hat{I}_N$."
   ],
   "metadata": {
    "collapsed": false
   }
  },
  {
   "cell_type": "code",
   "execution_count": null,
   "outputs": [],
   "source": [
    "def simple_monte_carlo(points, f, m):\n",
    "\timport numpy as np\n",
    "\treturn np.average(f(points, m))"
   ],
   "metadata": {
    "collapsed": false
   }
  },
  {
   "cell_type": "markdown",
   "source": [
    "6 Write a python function that computes the root-mean-square error in the integration,\n",
    "$$ \\text{RSME}_N = \\sqrt{\\mathbb{E}((\\hat{I}_N - I)^2)}$$\n",
    "To do this, re-compute $\\hat{I}_N$ $\\frac{1024}{N}$ times, with a different random seed each time."
   ],
   "metadata": {
    "collapsed": false
   }
  },
  {
   "cell_type": "markdown",
   "source": [
    "Analytical Integral:\n",
    "$$ \\Gamma(m+2) \\cdot \\frac{(2{\\sigma}^2)^{(\\frac{m+1}{2})}}{\\sqrt{\\pi}}$$"
   ],
   "metadata": {
    "collapsed": false
   }
  },
  {
   "cell_type": "code",
   "execution_count": null,
   "outputs": [],
   "source": [
    "def analytical_integral(m, sigma):\n",
    "\tfrom scipy.special import gamma\n",
    "\timport numpy as np\n",
    "\treturn gamma(m + 2) * ((2 * sigma ** 2) ** ((m + 1) / 2)) / np.sqrt(np.pi)"
   ],
   "metadata": {
    "collapsed": false
   }
  },
  {
   "cell_type": "code",
   "execution_count": null,
   "outputs": [],
   "source": [
    "def root_mean_square_error(n, f, m, sigma, analytical_value):\n",
    "\timport numpy as np\n",
    "\tsteps = 1 if np.ceil(1024 / n) < 1 else np.ceil(1024 / n)\n",
    "\ti_n = 0\n",
    "\tfor i in range(steps):\n",
    "\t\ti_n + simple_monte_carlo(sigma_transform(sigma, transform(draw(n))), f, m)\n",
    "\treturn np.sqrt((i_n - analytical_value))"
   ],
   "metadata": {
    "collapsed": false
   }
  },
  {
   "cell_type": "markdown",
   "source": [
    "7 Write a python driver function that inputs the number of samples, $N$, and outputs $\\text{RSME}_N$."
   ],
   "metadata": {
    "collapsed": false
   }
  },
  {
   "cell_type": "code",
   "execution_count": null,
   "outputs": [],
   "source": [
    "def rsme_driver(n):\n",
    "\t# assuming m = 1, sigma = 1\n",
    "\treturn root_mean_square_error(n=n, f=f, m=1, sigma=1, analytical_value=1)"
   ],
   "metadata": {
    "collapsed": false
   }
  },
  {
   "cell_type": "markdown",
   "source": [
    "8 Run the driver function with values of $N$: 4, 16, 64, 256, 1024."
   ],
   "metadata": {
    "collapsed": false
   }
  },
  {
   "cell_type": "code",
   "execution_count": null,
   "outputs": [],
   "source": [
    "n_i = [4, 16, 64, 256, 1024]\n",
    "for n in n_i:\n",
    "\tprint('RSME_N for n=', n, ' : ', rsme_driver(n))"
   ],
   "metadata": {
    "collapsed": false
   }
  },
  {
   "cell_type": "markdown",
   "source": [
    "9 Use matplotlib to write a function that plots $\\text{RSME}_N$ as a function of $N$ on log-log axes. Does the convergence rate go as $\\frac{1}{\\sqrt{N}}$?"
   ],
   "metadata": {
    "collapsed": false
   }
  },
  {
   "cell_type": "markdown",
   "source": [],
   "metadata": {
    "collapsed": false
   }
  }
 ],
 "metadata": {
  "kernelspec": {
   "display_name": "Python 3",
   "language": "python",
   "name": "python3"
  },
  "language_info": {
   "codemirror_mode": {
    "name": "ipython",
    "version": 2
   },
   "file_extension": ".py",
   "mimetype": "text/x-python",
   "name": "python",
   "nbconvert_exporter": "python",
   "pygments_lexer": "ipython2",
   "version": "2.7.6"
  }
 },
 "nbformat": 4,
 "nbformat_minor": 0
}
