{
 "cells": [
  {
   "cell_type": "markdown",
   "source": [
    "# Praktikum 1\n",
    "\n",
    "## Mathematical Modeling of the Atmosphere"
   ],
   "metadata": {
    "collapsed": false
   }
  },
  {
   "cell_type": "markdown",
   "source": [
    "2.1 Draw $N$ random points from a uniform distribution spanning $(0,1)$."
   ],
   "metadata": {
    "collapsed": false
   }
  },
  {
   "cell_type": "code",
   "execution_count": 201,
   "outputs": [],
   "source": [
    "import numpy as np\n",
    "\n",
    "\n",
    "def draw(n: int):\n",
    "    from numpy import random\n",
    "    return random.uniform(size=n)"
   ],
   "metadata": {
    "collapsed": false
   }
  },
  {
   "cell_type": "markdown",
   "source": [
    "2.2 Then transform those points to a univariate standard normal distribution, $\\mathcal{N}(0,1)$, by using the inverse cumulative distribution function of a standard normal. To do so in python, you can use, e.g., the ``norm.ppf`` function in the ``scypy.stats`` library."
   ],
   "metadata": {
    "collapsed": false
   }
  },
  {
   "cell_type": "code",
   "execution_count": 202,
   "outputs": [],
   "source": [
    "def transform(points):\n",
    "    from scipy.stats import norm\n",
    "    return norm.ppf(points)"
   ],
   "metadata": {
    "collapsed": false
   }
  },
  {
   "cell_type": "markdown",
   "source": [
    "3 Transform the $N$ points from the standard normal distribution to a normal distribution with mean 0 and standard deviation $\\sigma$."
   ],
   "metadata": {
    "collapsed": false
   }
  },
  {
   "cell_type": "code",
   "execution_count": 203,
   "outputs": [],
   "source": [
    "def sigma_transform(sigma: float, points):\n",
    "    return sigma * points"
   ],
   "metadata": {
    "collapsed": false
   }
  },
  {
   "cell_type": "markdown",
   "source": [
    "4 Write a python function that computes $f(x)$."
   ],
   "metadata": {
    "collapsed": false
   }
  },
  {
   "cell_type": "code",
   "execution_count": 204,
   "outputs": [],
   "source": [
    "def f(x, m):\n",
    "    import numpy as np\n",
    "    return np.heaviside(x, 1) * np.power(x, m)"
   ],
   "metadata": {
    "collapsed": false
   }
  },
  {
   "cell_type": "markdown",
   "source": [
    "5 Compute the integral $I$ using simple Monte Carlo integration with $N$ sample points. Call the estimator $\\hat{I}_N$."
   ],
   "metadata": {
    "collapsed": false
   }
  },
  {
   "cell_type": "code",
   "execution_count": 205,
   "outputs": [],
   "source": [
    "def simple_monte_carlo(points, f, m):\n",
    "    import numpy as np\n",
    "    return np.average(f(points, m))"
   ],
   "metadata": {
    "collapsed": false
   }
  },
  {
   "cell_type": "markdown",
   "source": [
    "6 Write a python function that computes the root-mean-square error in the integration,\n",
    "$$ \\text{RSME}_N = \\sqrt{\\mathbb{E}((\\hat{I}_N - I)^2)}$$\n",
    "To do this, re-compute $\\hat{I}_N$ $\\frac{1024}{N}$ times, with a different random seed each time."
   ],
   "metadata": {
    "collapsed": false
   }
  },
  {
   "cell_type": "markdown",
   "source": [
    "Analytical Integral:\n",
    "$$ \\Gamma(m+2) \\cdot \\frac{(2{\\sigma}^2)^{(\\frac{m+1}{2})}}{\\sqrt{\\pi}}$$"
   ],
   "metadata": {
    "collapsed": false
   }
  },
  {
   "cell_type": "code",
   "execution_count": 206,
   "outputs": [],
   "source": [
    "def analytical_integral(m, sigma):\n",
    "    from scipy.special import gamma\n",
    "    import numpy as np\n",
    "    return gamma(m + 2) * np.power(2 * np.power(sigma, 2), (m + 1) / 2) / np.sqrt(np.pi)"
   ],
   "metadata": {
    "collapsed": false
   }
  },
  {
   "cell_type": "code",
   "execution_count": 207,
   "outputs": [],
   "source": [
    "def root_mean_square_error(n, f, m, sigma, analytical_value):\n",
    "    import numpy as np\n",
    "    i_n = 0\n",
    "    for i in range(int(1024 // n)):\n",
    "        i_n += simple_monte_carlo(sigma_transform(sigma, transform(draw(n))), f, m)\n",
    "    return np.sqrt((i_n - analytical_value) ** 2)"
   ],
   "metadata": {
    "collapsed": false
   }
  },
  {
   "cell_type": "markdown",
   "source": [
    "7 Write a python driver function that inputs the number of samples, $N$, and outputs $\\text{RSME}_N$."
   ],
   "metadata": {
    "collapsed": false
   }
  },
  {
   "cell_type": "code",
   "execution_count": 208,
   "outputs": [],
   "source": [
    "def rsme_driver(n):\n",
    "    # assuming m = 1, sigma = 1\n",
    "    return root_mean_square_error(n=n, f=f, m=1, sigma=1, analytical_value=1)"
   ],
   "metadata": {
    "collapsed": false
   }
  },
  {
   "cell_type": "markdown",
   "source": [
    "8 Run the driver function with values of $N$: 4, 16, 64, 256, 1024."
   ],
   "metadata": {
    "collapsed": false
   }
  },
  {
   "cell_type": "code",
   "execution_count": 209,
   "outputs": [
    {
     "name": "stdout",
     "output_type": "stream",
     "text": [
      "RSME_N for n = 4  :  107.3229053458962\n",
      "RSME_N for n = 16  :  24.17103909971159\n",
      "RSME_N for n = 64  :  4.979451074147841\n",
      "RSME_N for n = 256  :  0.5912681939732582\n",
      "RSME_N for n = 1024  :  0.5927407912189444\n"
     ]
    }
   ],
   "source": [
    "n_i = [4, 16, 64, 256, 1024]\n",
    "for n in n_i:\n",
    "    print('RSME_N for n =', n, ' : ', rsme_driver(n))"
   ],
   "metadata": {
    "collapsed": false
   }
  },
  {
   "cell_type": "markdown",
   "source": [
    "9 Use matplotlib to write a function that plots $\\text{RSME}_N$ as a function of $N$ on log-log axes. Does the convergence rate go as $\\frac{1}{\\sqrt{N}}$?"
   ],
   "metadata": {
    "collapsed": false
   }
  },
  {
   "cell_type": "code",
   "execution_count": 220,
   "outputs": [
    {
     "name": "stderr",
     "output_type": "stream",
     "text": [
      "C:\\Users\\sberg\\AppData\\Local\\Temp\\ipykernel_17280\\1110265006.py:4: RuntimeWarning: divide by zero encountered in long_scalars\n",
      "  for i in range(int(1024 // n)):\n",
      "C:\\Users\\sberg\\AppData\\Local\\Temp\\ipykernel_17280\\258253955.py:8: RuntimeWarning: divide by zero encountered in true_divide\n",
      "  ax.plot(y, 1/np.sqrt(y), label='1/sqrt(n)')\n"
     ]
    },
    {
     "data": {
      "text/plain": "<Figure size 640x480 with 1 Axes>",
      "image/png": "[encoded data removed]"
     },
     "metadata": {},
     "output_type": "display_data"
    }
   ],
   "source": [
    "from matplotlib import pyplot as plt\n",
    "import numpy as np\n",
    "\n",
    "y = np.arange(0, 101, 2)\n",
    "x = np.fromiter([rsme_driver(n) for n in y], dtype=float)\n",
    "fig, ax = plt.subplots()\n",
    "ax.plot(y, x, label='rsme(n)')\n",
    "ax.plot(y, 1/np.sqrt(y), label='1/sqrt(n)')\n",
    "ax.set_ylabel('n')\n",
    "ax.legend()\n",
    "plt.show()"
   ],
   "metadata": {
    "collapsed": false
   }
  },
  {
   "cell_type": "markdown",
   "source": [],
   "metadata": {
    "collapsed": false
   }
  }
 ],
 "metadata": {
  "kernelspec": {
   "display_name": "Python 3",
   "language": "python",
   "name": "python3"
  },
  "language_info": {
   "codemirror_mode": {
    "name": "ipython",
    "version": 2
   },
   "file_extension": ".py",
   "mimetype": "text/x-python",
   "name": "python",
   "nbconvert_exporter": "python",
   "pygments_lexer": "ipython2",
   "version": "2.7.6"
  }
 },
 "nbformat": 4,
 "nbformat_minor": 0
}
