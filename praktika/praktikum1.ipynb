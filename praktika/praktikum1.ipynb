{
 "cells": [
  {
   "cell_type": "markdown",
   "source": [
    "# Praktikum 1\n",
    "\n",
    "## Mathematical Modeling of the Atmosphere"
   ],
   "metadata": {
    "collapsed": false
   }
  },
  {
   "cell_type": "markdown",
   "source": [
    "2.1 Draw $N$ random points from a uniform distribution spanning $(0,1)$."
   ],
   "metadata": {
    "collapsed": false
   }
  },
  {
   "cell_type": "code",
   "execution_count": 2,
   "outputs": [],
   "source": [
    "def draw(n: int):\n",
    "\tfrom numpy import random\n",
    "\treturn random.uniform(n)"
   ],
   "metadata": {
    "collapsed": false
   }
  },
  {
   "cell_type": "markdown",
   "source": [
    "2.2 Then transform those points to a univariate standard normal distribution, $\\mathcal{N}(0,1)$, by using the inverse cumulative distribution function of a standard normal. To do so in python, you can use, e.g., the ``norm.ppf`` function in the ``scypy.stats`` library."
   ],
   "metadata": {
    "collapsed": false
   }
  },
  {
   "cell_type": "code",
   "execution_count": null,
   "outputs": [],
   "source": [
    "def transform(x: list):\n",
    "\tfrom scipy.stats import norm\n",
    "\treturn norm(x)"
   ],
   "metadata": {
    "collapsed": false
   }
  },
  {
   "cell_type": "markdown",
   "source": [
    "3 Transform the $N$ points from the standard normal distribution to a normal distribution with mean 0 and standard deviation $\\sigma$."
   ],
   "metadata": {
    "collapsed": false
   }
  },
  {
   "cell_type": "code",
   "execution_count": null,
   "outputs": [],
   "source": [],
   "metadata": {
    "collapsed": false
   }
  },
  {
   "cell_type": "markdown",
   "source": [
    "4 Write a python function that computes $f(x)$."
   ],
   "metadata": {
    "collapsed": false
   }
  },
  {
   "cell_type": "code",
   "execution_count": null,
   "outputs": [],
   "source": [
    "H = lambda x: 1 if x > 0 else 0"
   ],
   "metadata": {
    "collapsed": false
   }
  }
 ],
 "metadata": {
  "kernelspec": {
   "display_name": "Python 3",
   "language": "python",
   "name": "python3"
  },
  "language_info": {
   "codemirror_mode": {
    "name": "ipython",
    "version": 2
   },
   "file_extension": ".py",
   "mimetype": "text/x-python",
   "name": "python",
   "nbconvert_exporter": "python",
   "pygments_lexer": "ipython2",
   "version": "2.7.6"
  }
 },
 "nbformat": 4,
 "nbformat_minor": 0
}
