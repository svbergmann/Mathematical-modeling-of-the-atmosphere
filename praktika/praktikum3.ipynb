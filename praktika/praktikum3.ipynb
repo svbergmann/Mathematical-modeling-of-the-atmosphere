{
 "cells": [
  {
   "cell_type": "markdown",
   "source": [
    "# Praktikum 3, Monte Carlo"
   ],
   "metadata": {
    "collapsed": false
   }
  },
  {
   "cell_type": "markdown",
   "source": [
    "## Control variates"
   ],
   "metadata": {
    "collapsed": false
   }
  },
  {
   "cell_type": "markdown",
   "source": [
    "A control variate is a function, $h(x)$, that can be integrated analytically and is similar to the function, $f(x)$, that we want to integrate by a Monte Carlo method.\n",
    "We can test the method of control variates by using the autoconversion function studied earlier, $f(x|\\alpha, \\beta)$.\n",
    " For pedagogical purposes, suppose that the control variate is $h(x) = f(x|\\alpha ′, \\beta ′)$, where $\\alpha ′ \\approx α$ and $\\beta ′ \\approx \\beta$.\n",
    " In other words, let’s pretend that we can’t integrate $f(x|\\alpha, \\beta)$ analytically, but that we can integrate $h(x) = f(x|\\alpha ′, \\beta ′)$ analytically.\n",
    "Then let’s use $h$ as a control variate.\n",
    "The method of control variates is described in Section 8.9 of “Monte Carlo theory, methods and examples” by Art Owen.\n",
    " Following that reference, implement the method of control variates and test whether it produces less noise than basic Monte Carlo."
   ],
   "metadata": {
    "collapsed": false
   }
  },
  {
   "cell_type": "code",
   "execution_count": null,
   "outputs": [],
   "source": [
    "import math\n",
    "import numpy as np\n",
    "import matplotlib.pyplot as plt\n",
    "import scipy.special as sp\n",
    "\n",
    "from scipy.stats import norm\n",
    "from scipy.stats import pearsonr"
   ],
   "metadata": {
    "collapsed": false
   }
  },
  {
   "cell_type": "code",
   "execution_count": 27,
   "metadata": {
    "collapsed": true
   },
   "outputs": [
    {
     "name": "stdout",
     "output_type": "stream",
     "text": [
      "0.0318574477468771\n",
      "0.05869875647151953\n"
     ]
    }
   ],
   "source": [
    "def f(chi, N_c, alpha=2.47, beta=-1.79):\n",
    "    \"\"\"Autoconversion.\n",
    "\n",
    "    Autoconversion is the process by which small cloud droplets grow in size\n",
    "    and become rain drops. Therefore, if there is more cloud water or larger\n",
    "    drops, rain forms more easily.\n",
    "\n",
    "    Args:\n",
    "        chi (float): Cloud water mixing ratio.\n",
    "        alpha (float): Often take to 2.47\n",
    "        beta (float): Often take to -1.79\n",
    "        N_c (float): Number of Cloud droplets.\n",
    "    \"\"\"\n",
    "    H = lambda x: 1 if x > 0 else 0\n",
    "    return H(chi) * np.nan_to_num(np.power(chi, alpha)) * np.nan_to_num(np.power(N_c, beta))\n",
    "\n",
    "\n",
    "def h(X, N_c):\n",
    "    return f(X, N_c, alpha=2.2, beta=-1.5)\n",
    "\n",
    "\n",
    "print(f(1.5, 12))\n",
    "print(h(1.5, 12))"
   ]
  },
  {
   "cell_type": "code",
   "execution_count": 28,
   "outputs": [
    {
     "data": {
      "text/plain": "array([[-0.6371159 , -0.99988132, -0.58841609, -0.10215484, -0.46490278,\n         0.04612031, -0.63736695,  1.97888078,  0.62134767, -1.19894726],\n       [ 0.50871595,  0.46913499,  0.60942966,  0.93623955,  0.54724061,\n         0.90758499,  0.4262968 ,  8.29343772,  1.91799521,  0.32966234]])"
     },
     "execution_count": 28,
     "metadata": {},
     "output_type": "execute_result"
    }
   ],
   "source": [
    "def cholesky(sigma_x, sigma_y, r):\n",
    "    import numpy as np\n",
    "    assert r ** 2 <= 1\n",
    "    L = np.zeros((2, 2))\n",
    "\n",
    "    L[0, 0] = sigma_x\n",
    "    L[1, 0] = r * sigma_y\n",
    "    L[1, 1] = sigma_y * np.sqrt(1 - r ** 2)\n",
    "\n",
    "    return L\n",
    "\n",
    "\n",
    "def generate_X(value, sigma1, mu1, sigma2, mu2, r, seed1=None, seed2=None):\n",
    "    import numpy as np\n",
    "    from scipy.stats import norm\n",
    "    np.random.seed(seed=seed1)\n",
    "    randoms = np.random.rand(value)\n",
    "    X = norm.ppf(randoms)\n",
    "\n",
    "    np.random.seed(seed=seed2)\n",
    "    randoms = np.random.rand(value)\n",
    "    N_c = norm.ppf(randoms)\n",
    "\n",
    "    Y = np.vstack((X, N_c))\n",
    "\n",
    "    mu = np.array([[mu1], [mu2]])\n",
    "\n",
    "    L = cholesky(sigma1, sigma2, r)\n",
    "\n",
    "    X_ = L @ Y + mu\n",
    "\n",
    "    lognormal = np.e ** X_[1]\n",
    "    X_[1] = lognormal\n",
    "\n",
    "    return X_\n",
    "\n",
    "\n",
    "generate_X(10, 1, 0, 1, 0, 0.99, 1337, 42)"
   ],
   "metadata": {
    "collapsed": false
   }
  },
  {
   "cell_type": "code",
   "execution_count": 29,
   "outputs": [
    {
     "name": "stderr",
     "output_type": "stream",
     "text": [
      "C:\\Users\\sberg\\AppData\\Local\\Temp\\ipykernel_4480\\731970043.py:15: RuntimeWarning: invalid value encountered in power\n",
      "  return H(chi) * np.nan_to_num(np.power(chi, alpha)) * np.nan_to_num(np.power(N_c, beta))\n"
     ]
    },
    {
     "data": {
      "text/plain": "<Figure size 640x480 with 1 Axes>",
      "image/png": "[encoded data removed]"
     },
     "metadata": {},
     "output_type": "display_data"
    }
   ],
   "source": [
    "from matplotlib import pyplot as plt\n",
    "import numpy as np\n",
    "\n",
    "X = generate_X(value=10, sigma1=1, mu1=0, sigma2=1, mu2=0, r=0.99, seed1=1337, seed2=42)\n",
    "y_h = np.array([h(X[0][i], X[1][i]) for i in range(X.shape[1])])\n",
    "y_f = np.array([f(X[0][i], X[1][i]) for i in range(X.shape[1])])\n",
    "\n",
    "plt.scatter(y_h, y_f, label=\"y\")\n",
    "plt.legend()\n",
    "plt.show()"
   ],
   "metadata": {
    "collapsed": false
   }
  },
  {
   "cell_type": "code",
   "execution_count": 30,
   "outputs": [
    {
     "data": {
      "text/plain": "PearsonRResult(statistic=0.9982200968092221, pvalue=4.3816297675771565e-11)"
     },
     "execution_count": 30,
     "metadata": {},
     "output_type": "execute_result"
    }
   ],
   "source": [
    "from scipy.stats import pearsonr\n",
    "\n",
    "rho = pearsonr(y_h, y_f)\n",
    "rho"
   ],
   "metadata": {
    "collapsed": false
   }
  },
  {
   "cell_type": "code",
   "execution_count": 31,
   "outputs": [
    {
     "name": "stdout",
     "output_type": "stream",
     "text": [
      "[[-0.6371159  -0.99988132 -0.58841609 -0.10215484 -0.46490278  0.04612031\n",
      "  -0.63736695  1.97888078  0.62134767 -1.19894726]\n",
      " [ 0.50871595  0.46913499  0.60942966  0.93623955  0.54724061  0.90758499\n",
      "   0.4262968   8.29343772  1.91799521  0.32966234]]\n"
     ]
    },
    {
     "name": "stderr",
     "output_type": "stream",
     "text": [
      "C:\\Users\\sberg\\AppData\\Local\\Temp\\ipykernel_4480\\731970043.py:15: RuntimeWarning: invalid value encountered in power\n",
      "  return H(chi) * np.nan_to_num(np.power(chi, alpha)) * np.nan_to_num(np.power(N_c, beta))\n"
     ]
    },
    {
     "data": {
      "text/plain": "'beta_head: 0.6752071535548988'"
     },
     "execution_count": 31,
     "metadata": {},
     "output_type": "execute_result"
    }
   ],
   "source": [
    "def beta(X):\n",
    "    Chi = X[0]\n",
    "    N = X[1]\n",
    "\n",
    "    num = 0\n",
    "    denum = 0\n",
    "\n",
    "    f_quer = np.mean([f(Chi[i], N[i]) for i in range(Chi.shape[0])])\n",
    "    h_quer = np.mean([h(Chi[i], N[i]) for i in range(Chi.shape[0])])\n",
    "\n",
    "    # print(f_quer)\n",
    "    # print(h_quer)\n",
    "\n",
    "    for i, _ in enumerate(Chi):\n",
    "        num += (f(Chi[i], N[i]) - f_quer) * (h(Chi[i], N[i]) - h_quer)\n",
    "        denum += (h(Chi[i], N[i]) - h_quer) ** 2\n",
    "\n",
    "    assert denum != 0\n",
    "\n",
    "    return num / denum\n",
    "\n",
    "\n",
    "X = generate_X(10, 1, 0, 1, 0, 0.99, 1337, 42)\n",
    "print(X)\n",
    "beta_head = beta(X)\n",
    "\n",
    "f\"beta_head: {beta_head}\""
   ],
   "metadata": {
    "collapsed": false
   }
  },
  {
   "cell_type": "code",
   "execution_count": 32,
   "outputs": [],
   "source": [
    "import math\n",
    "import scipy as sp\n",
    "\n",
    "\n",
    "def autoconversion_average(X, N_c, sigma_X, mu_X, sigma_N_c, mu_N_c, r, alpha=2.47, beta=-1.79):\n",
    "    # sigma_X = np.sqrt(np.var(X))\n",
    "    # sigma_N_c = np.sqrt(np.var(N_c))\n",
    "    # mu_X = np.mean(X)\n",
    "    # mu_N_c = np.mean(N_c)\n",
    "    # r = np.correlate(X, N_c)[0]\n",
    "\n",
    "    exp = np.e ** (mu_N_c * beta + 1 / 2 * sigma_N_c ** 2 * beta ** 2 - 1 / 4 * (\n",
    "            mu_X / sigma_X + r * sigma_N_c * beta) ** 2)\n",
    "    G = math.gamma(alpha + 1)\n",
    "\n",
    "    v = - (alpha + 1)\n",
    "    x = - (mu_X / sigma_X + r * sigma_N_c * beta)\n",
    "    D, _ = sp.pbdv(v, x)\n",
    "\n",
    "    return 1 / np.sqrt(2 * np.pi) * sigma_X ** alpha * exp * G * D\n",
    "\n",
    "\n",
    "def theta(X, N_c, sigma_X, mu_X, sigma_N_c, mu_N_c, r):\n",
    "    return autoconversion_average(X, N_c, sigma_X, mu_X, sigma_N_c, mu_N_c, r, alpha=2.2, beta=-1.5)"
   ],
   "metadata": {
    "collapsed": false
   }
  },
  {
   "cell_type": "code",
   "execution_count": 33,
   "outputs": [],
   "source": [
    "sigma_X = 1\n",
    "sigma_N_c = 1\n",
    "mu_X = 0\n",
    "mu_N_c = 0\n",
    "r = 0.99\n",
    "\n",
    "X = generate_X(10, sigma_X, mu_X, sigma_N_c, mu_N_c, r, 1337, 42)\n",
    "\n",
    "\n",
    "def mu_beta(X, beta, sigma_X, mu_X, sigma_N_c, mu_N_c, r):\n",
    "    \"\"\"calcululate mu beta\n",
    "\n",
    "    Args:\n",
    "        X (vector 2D): _description_\n",
    "        beta (float): _description_\n",
    "        sigma_X (float): _description_\n",
    "        mu_X (float): _description_\n",
    "        sigma_N_c (float): _description_\n",
    "        mu_N_c (float): _description_\n",
    "        r (float): _description_\n",
    "\n",
    "    Returns:\n",
    "        float: mu_beta\n",
    "    \"\"\"\n",
    "    Chi = X[0]\n",
    "    N = X[1]\n",
    "\n",
    "    n = Chi.shape[0]\n",
    "    result = 0\n",
    "\n",
    "    for i, _ in enumerate(Chi):\n",
    "        result += f(Chi[i], N[i])\n",
    "        result -= beta * h(Chi[i], N[i])\n",
    "\n",
    "    result /= n\n",
    "\n",
    "    return result + beta * theta(Chi, N, sigma_X, mu_X, sigma_N_c, mu_N_c, r)"
   ],
   "metadata": {
    "collapsed": false
   }
  },
  {
   "cell_type": "markdown",
   "source": [],
   "metadata": {
    "collapsed": false
   }
  },
  {
   "cell_type": "code",
   "execution_count": 34,
   "outputs": [],
   "source": [
    "def monte_carlo(X, N_c):\n",
    "    result = 0\n",
    "    n = X.shape[0]\n",
    "    for i in range(X.shape[0]):\n",
    "        result += f(X[i], N_c[i])\n",
    "    return result / n"
   ],
   "metadata": {
    "collapsed": false
   }
  },
  {
   "cell_type": "code",
   "execution_count": 35,
   "outputs": [],
   "source": [
    "n = 1000\n",
    "sigma_X = 1\n",
    "sigma_N_c = 1\n",
    "mu_X = 0\n",
    "mu_N_c = 0\n",
    "r = 0.99\n",
    "\n",
    "X = generate_X(n, sigma_X, mu_X, sigma_N_c, mu_N_c, r, 1337, 42)"
   ],
   "metadata": {
    "collapsed": false
   }
  },
  {
   "cell_type": "code",
   "execution_count": 36,
   "outputs": [
    {
     "name": "stderr",
     "output_type": "stream",
     "text": [
      "C:\\Users\\sberg\\AppData\\Local\\Temp\\ipykernel_4480\\731970043.py:15: RuntimeWarning: invalid value encountered in power\n",
      "  return H(chi) * np.nan_to_num(np.power(chi, alpha)) * np.nan_to_num(np.power(N_c, beta))\n"
     ]
    },
    {
     "ename": "AttributeError",
     "evalue": "Module 'scipy' has no attribute 'pbdv'",
     "output_type": "error",
     "traceback": [
      "\u001B[1;31m---------------------------------------------------------------------------\u001B[0m",
      "\u001B[1;31mKeyError\u001B[0m                                  Traceback (most recent call last)",
      "File \u001B[1;32m~\\anaconda3\\lib\\site-packages\\scipy\\__init__.py:214\u001B[0m, in \u001B[0;36m__getattr__\u001B[1;34m(name)\u001B[0m\n\u001B[0;32m    213\u001B[0m \u001B[38;5;28;01mtry\u001B[39;00m:\n\u001B[1;32m--> 214\u001B[0m     \u001B[38;5;28;01mreturn\u001B[39;00m \u001B[38;5;28;43mglobals\u001B[39;49m\u001B[43m(\u001B[49m\u001B[43m)\u001B[49m\u001B[43m[\u001B[49m\u001B[43mname\u001B[49m\u001B[43m]\u001B[49m\n\u001B[0;32m    215\u001B[0m \u001B[38;5;28;01mexcept\u001B[39;00m \u001B[38;5;167;01mKeyError\u001B[39;00m:\n",
      "\u001B[1;31mKeyError\u001B[0m: 'pbdv'",
      "\nDuring handling of the above exception, another exception occurred:\n",
      "\u001B[1;31mAttributeError\u001B[0m                            Traceback (most recent call last)",
      "Cell \u001B[1;32mIn[36], line 23\u001B[0m\n\u001B[0;32m     19\u001B[0m N_c \u001B[38;5;241m=\u001B[39m X[\u001B[38;5;241m1\u001B[39m]\n\u001B[0;32m     21\u001B[0m mu \u001B[38;5;241m=\u001B[39m monte_carlo(Chi, N_c)\n\u001B[1;32m---> 23\u001B[0m mu_b \u001B[38;5;241m=\u001B[39m \u001B[43mmu_beta\u001B[49m\u001B[43m(\u001B[49m\u001B[43mX\u001B[49m\u001B[43m,\u001B[49m\u001B[43m \u001B[49m\u001B[43mbeta\u001B[49m\u001B[43m(\u001B[49m\u001B[43mX\u001B[49m\u001B[43m)\u001B[49m\u001B[43m,\u001B[49m\u001B[43m \u001B[49m\u001B[43msigma_X\u001B[49m\u001B[43m,\u001B[49m\u001B[43m \u001B[49m\u001B[43mmu_X\u001B[49m\u001B[43m,\u001B[49m\u001B[43m \u001B[49m\u001B[43msigma_N_c\u001B[49m\u001B[43m,\u001B[49m\u001B[43m \u001B[49m\u001B[43mmu_N_c\u001B[49m\u001B[43m,\u001B[49m\u001B[43m \u001B[49m\u001B[43mr\u001B[49m\u001B[43m)\u001B[49m\n\u001B[0;32m     25\u001B[0m analytic \u001B[38;5;241m=\u001B[39m autoconversion_average(Chi, N_c, sigma_X, mu_X, sigma_N_c, mu_N_c, r)\n\u001B[0;32m     27\u001B[0m mu_error \u001B[38;5;241m+\u001B[39m\u001B[38;5;241m=\u001B[39m np\u001B[38;5;241m.\u001B[39mabs(mu \u001B[38;5;241m-\u001B[39m analytic)\u001B[38;5;241m/\u001B[39manalytic\n",
      "Cell \u001B[1;32mIn[33], line 37\u001B[0m, in \u001B[0;36mmu_beta\u001B[1;34m(X, beta, sigma_X, mu_X, sigma_N_c, mu_N_c, r)\u001B[0m\n\u001B[0;32m     33\u001B[0m     result \u001B[38;5;241m-\u001B[39m\u001B[38;5;241m=\u001B[39m beta \u001B[38;5;241m*\u001B[39m h(Chi[i], N[i])\n\u001B[0;32m     35\u001B[0m result \u001B[38;5;241m/\u001B[39m\u001B[38;5;241m=\u001B[39m n\n\u001B[1;32m---> 37\u001B[0m \u001B[38;5;28;01mreturn\u001B[39;00m result \u001B[38;5;241m+\u001B[39m beta \u001B[38;5;241m*\u001B[39m \u001B[43mtheta\u001B[49m\u001B[43m(\u001B[49m\u001B[43mChi\u001B[49m\u001B[43m,\u001B[49m\u001B[43m \u001B[49m\u001B[43mN\u001B[49m\u001B[43m,\u001B[49m\u001B[43m \u001B[49m\u001B[43msigma_X\u001B[49m\u001B[43m,\u001B[49m\u001B[43m \u001B[49m\u001B[43mmu_X\u001B[49m\u001B[43m,\u001B[49m\u001B[43m \u001B[49m\u001B[43msigma_N_c\u001B[49m\u001B[43m,\u001B[49m\u001B[43m \u001B[49m\u001B[43mmu_N_c\u001B[49m\u001B[43m,\u001B[49m\u001B[43m \u001B[49m\u001B[43mr\u001B[49m\u001B[43m)\u001B[49m\n",
      "Cell \u001B[1;32mIn[32], line 24\u001B[0m, in \u001B[0;36mtheta\u001B[1;34m(X, N_c, sigma_X, mu_X, sigma_N_c, mu_N_c, r)\u001B[0m\n\u001B[0;32m     23\u001B[0m \u001B[38;5;28;01mdef\u001B[39;00m \u001B[38;5;21mtheta\u001B[39m(X, N_c, sigma_X, mu_X, sigma_N_c, mu_N_c, r):\n\u001B[1;32m---> 24\u001B[0m     \u001B[38;5;28;01mreturn\u001B[39;00m \u001B[43mautoconversion_average\u001B[49m\u001B[43m(\u001B[49m\u001B[43mX\u001B[49m\u001B[43m,\u001B[49m\u001B[43m \u001B[49m\u001B[43mN_c\u001B[49m\u001B[43m,\u001B[49m\u001B[43m \u001B[49m\u001B[43msigma_X\u001B[49m\u001B[43m,\u001B[49m\u001B[43m \u001B[49m\u001B[43mmu_X\u001B[49m\u001B[43m,\u001B[49m\u001B[43m \u001B[49m\u001B[43msigma_N_c\u001B[49m\u001B[43m,\u001B[49m\u001B[43m \u001B[49m\u001B[43mmu_N_c\u001B[49m\u001B[43m,\u001B[49m\u001B[43m \u001B[49m\u001B[43mr\u001B[49m\u001B[43m,\u001B[49m\u001B[43m \u001B[49m\u001B[43malpha\u001B[49m\u001B[38;5;241;43m=\u001B[39;49m\u001B[38;5;241;43m2.2\u001B[39;49m\u001B[43m,\u001B[49m\u001B[43m \u001B[49m\u001B[43mbeta\u001B[49m\u001B[38;5;241;43m=\u001B[39;49m\u001B[38;5;241;43m-\u001B[39;49m\u001B[38;5;241;43m1.5\u001B[39;49m\u001B[43m)\u001B[49m\n",
      "Cell \u001B[1;32mIn[32], line 18\u001B[0m, in \u001B[0;36mautoconversion_average\u001B[1;34m(X, N_c, sigma_X, mu_X, sigma_N_c, mu_N_c, r, alpha, beta)\u001B[0m\n\u001B[0;32m     16\u001B[0m v \u001B[38;5;241m=\u001B[39m \u001B[38;5;241m-\u001B[39m (alpha \u001B[38;5;241m+\u001B[39m \u001B[38;5;241m1\u001B[39m)\n\u001B[0;32m     17\u001B[0m x \u001B[38;5;241m=\u001B[39m \u001B[38;5;241m-\u001B[39m (mu_X \u001B[38;5;241m/\u001B[39m sigma_X \u001B[38;5;241m+\u001B[39m r \u001B[38;5;241m*\u001B[39m sigma_N_c \u001B[38;5;241m*\u001B[39m beta)\n\u001B[1;32m---> 18\u001B[0m D, _ \u001B[38;5;241m=\u001B[39m \u001B[43msp\u001B[49m\u001B[38;5;241;43m.\u001B[39;49m\u001B[43mpbdv\u001B[49m(v, x)\n\u001B[0;32m     20\u001B[0m \u001B[38;5;28;01mreturn\u001B[39;00m \u001B[38;5;241m1\u001B[39m \u001B[38;5;241m/\u001B[39m np\u001B[38;5;241m.\u001B[39msqrt(\u001B[38;5;241m2\u001B[39m \u001B[38;5;241m*\u001B[39m np\u001B[38;5;241m.\u001B[39mpi) \u001B[38;5;241m*\u001B[39m sigma_X \u001B[38;5;241m*\u001B[39m\u001B[38;5;241m*\u001B[39m alpha \u001B[38;5;241m*\u001B[39m exp \u001B[38;5;241m*\u001B[39m G \u001B[38;5;241m*\u001B[39m D\n",
      "File \u001B[1;32m~\\anaconda3\\lib\\site-packages\\scipy\\__init__.py:216\u001B[0m, in \u001B[0;36m__getattr__\u001B[1;34m(name)\u001B[0m\n\u001B[0;32m    214\u001B[0m     \u001B[38;5;28;01mreturn\u001B[39;00m \u001B[38;5;28mglobals\u001B[39m()[name]\n\u001B[0;32m    215\u001B[0m \u001B[38;5;28;01mexcept\u001B[39;00m \u001B[38;5;167;01mKeyError\u001B[39;00m:\n\u001B[1;32m--> 216\u001B[0m     \u001B[38;5;28;01mraise\u001B[39;00m \u001B[38;5;167;01mAttributeError\u001B[39;00m(\n\u001B[0;32m    217\u001B[0m         \u001B[38;5;124mf\u001B[39m\u001B[38;5;124m\"\u001B[39m\u001B[38;5;124mModule \u001B[39m\u001B[38;5;124m'\u001B[39m\u001B[38;5;124mscipy\u001B[39m\u001B[38;5;124m'\u001B[39m\u001B[38;5;124m has no attribute \u001B[39m\u001B[38;5;124m'\u001B[39m\u001B[38;5;132;01m{\u001B[39;00mname\u001B[38;5;132;01m}\u001B[39;00m\u001B[38;5;124m'\u001B[39m\u001B[38;5;124m\"\u001B[39m\n\u001B[0;32m    218\u001B[0m     )\n",
      "\u001B[1;31mAttributeError\u001B[0m: Module 'scipy' has no attribute 'pbdv'"
     ]
    }
   ],
   "source": [
    "sigma_X = 1\n",
    "sigma_N_c = 1\n",
    "mu_X = 0\n",
    "mu_N_c = 0\n",
    "r = 0.99\n",
    "mu_error_list = []\n",
    "mu_b_error_list = []\n",
    "N = [500, 1000, 2000, 5000, 10000, 20000]\n",
    "iterations = 10\n",
    "\n",
    "for i in N:\n",
    "\n",
    "    mu_error = 0\n",
    "    mu_b_error = 0\n",
    "    for j in range(iterations):\n",
    "        X = generate_X(i, sigma_X, mu_X, sigma_N_c, mu_N_c, r)\n",
    "\n",
    "        Chi = X[0]\n",
    "        N_c = X[1]\n",
    "\n",
    "        mu = monte_carlo(Chi, N_c)\n",
    "\n",
    "        mu_b = mu_beta(X, beta(X), sigma_X, mu_X, sigma_N_c, mu_N_c, r)\n",
    "\n",
    "        analytic = autoconversion_average(Chi, N_c, sigma_X, mu_X, sigma_N_c, mu_N_c, r)\n",
    "\n",
    "        mu_error += np.abs(mu - analytic) / analytic\n",
    "        mu_b_error += np.abs(mu_b - analytic) / analytic\n",
    "\n",
    "        # print(f\"mc: {mu}, mu_b: {mu_b}, beta: {beta(X)}, analytic: {analytic}\")\n",
    "\n",
    "    mu_error_list.append(mu_error / iterations)\n",
    "    mu_b_error_list.append(mu_b_error / iterations)\n",
    "\n",
    "plt.plot(np.log(N), np.log(mu_error_list), label=\"mc\")\n",
    "plt.plot(np.log(N), np.log(mu_b_error_list), label=\"mu_b_error\")\n",
    "plt.plot(np.log(N), np.log(1 / np.sqrt(N)), label=\"1/sqrt(N)\")\n",
    "plt.legend()\n",
    "plt.show()"
   ],
   "metadata": {
    "collapsed": false
   }
  },
  {
   "cell_type": "code",
   "execution_count": null,
   "outputs": [],
   "source": [
    "1 - (np.array(mu_error_list) - np.array(mu_b_error_list)) ** 2"
   ],
   "metadata": {
    "collapsed": false
   }
  },
  {
   "cell_type": "code",
   "execution_count": null,
   "outputs": [],
   "source": [
    "X = generate_X(1000, sigma_X, mu_X, sigma_N_c, mu_N_c, r)\n",
    "Chi = X[0]\n",
    "Chi = np.where(Chi > 0, Chi, 0)\n",
    "print(Chi)\n",
    "N = X[1]\n",
    "\n",
    "np.correlate(f(Chi, N), h(Chi, N))"
   ],
   "metadata": {
    "collapsed": false
   }
  },
  {
   "cell_type": "code",
   "execution_count": null,
   "outputs": [],
   "source": [
    "np.where(Chi > 0, Chi, 0)"
   ],
   "metadata": {
    "collapsed": false
   }
  }
 ],
 "metadata": {
  "kernelspec": {
   "display_name": "Python 3",
   "language": "python",
   "name": "python3"
  },
  "language_info": {
   "codemirror_mode": {
    "name": "ipython",
    "version": 2
   },
   "file_extension": ".py",
   "mimetype": "text/x-python",
   "name": "python",
   "nbconvert_exporter": "python",
   "pygments_lexer": "ipython2",
   "version": "2.7.6"
  }
 },
 "nbformat": 4,
 "nbformat_minor": 0
}
