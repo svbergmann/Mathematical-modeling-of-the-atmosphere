{
 "cells": [
  {
   "cell_type": "markdown",
   "source": [
    "# Praktikum 2, Monte Carlo\n",
    "## Math modeling of the atmosphere\n",
    "\n",
    "\n",
    "## Computing average autoconversion"
   ],
   "metadata": {
    "collapsed": false
   }
  },
  {
   "cell_type": "markdown",
   "source": [
    "Autoconversion is the process by which small cloud droplets grow in size and become rain drops. It can be approximated as a function of two variables, $\\chi$ and $N_c$:"
   ],
   "metadata": {
    "collapsed": false
   }
  },
  {
   "cell_type": "markdown",
   "source": [
    "$$A(\\chi, N_c)=H(\\chi){\\chi}^{\\alpha}{N_c}^{\\beta}$$"
   ],
   "metadata": {
    "collapsed": false
   }
  },
  {
   "cell_type": "code",
   "execution_count": 77,
   "outputs": [],
   "source": [
    "import numpy as np\n",
    "\n",
    "\n",
    "def a_chi_n_c(chi, n_c, alpha, beta):\n",
    "    H = lambda x: 1 if x > 0 else 0\n",
    "    return H(chi) * (chi ** alpha) * (n_c ** beta)"
   ],
   "metadata": {
    "collapsed": false
   }
  },
  {
   "cell_type": "markdown",
   "source": [
    "Here $\\chi$ is related to clound water mixing ratio, and $N_c$ is the number of cloud droplets. The expontent $\\alpha$ is often taken to equal 2.47, and the exponent $\\beta$ is often taken to equal -1.79. Therefore, if there is more cloud water or larger drops, rain forms more easily."
   ],
   "metadata": {
    "collapsed": false
   }
  },
  {
   "cell_type": "code",
   "execution_count": 78,
   "outputs": [],
   "source": [
    "alpha = 2.47\n",
    "beta = -1.79"
   ],
   "metadata": {
    "collapsed": false
   }
  },
  {
   "cell_type": "markdown",
   "source": [
    "If we integrate over this autoconversion expression over a bivariate PDF that is normal in $\\chi$ and lognormal in $N_c$, we find"
   ],
   "metadata": {
    "collapsed": false
   }
  },
  {
   "cell_type": "markdown",
   "source": [
    "TODO!"
   ],
   "metadata": {
    "collapsed": false
   }
  },
  {
   "cell_type": "markdown",
   "source": [
    "1. Write a python function that computes the exact average autoconversion rate given by the formula above. As input, it should take in the means, standard deviations, and correlation of the PDF, along with the exponents $\\alpha$ and $\\beta$. As output, it should produce $\\overline{A(\\chi,N_c)}$. Use the `scipy.special` function, `pbdv`."
   ],
   "metadata": {
    "collapsed": false
   }
  },
  {
   "cell_type": "code",
   "execution_count": 79,
   "outputs": [],
   "source": [
    "def exact_average_autoconversion_rate(my_n_c, my_chi,\n",
    "                                      sigma_chi, sigma_n_c,\n",
    "                                      r_chi_n_c, alpha, beta):\n",
    "    import numpy as np\n",
    "    from scipy.special import gamma, pbdv\n",
    "    first = (1 / (np.sqrt(2 * np.pi))) * (sigma_chi ** alpha)\n",
    "    second = np.exp((my_n_c * beta) + ((1 / 2) * sigma_n_c ** 2 * beta ** 2) - (\n",
    "            (1 / 4) * ((my_chi / sigma_chi) + r_chi_n_c * sigma_n_c * beta) ** 2))\n",
    "    third = gamma(alpha + 1)\n",
    "    fourth = pbdv(-(alpha + 1), -((my_chi / sigma_chi) + r_chi_n_c * sigma_n_c * beta))[0]\n",
    "    return first * second * third * fourth\n"
   ],
   "metadata": {
    "collapsed": false
   }
  },
  {
   "cell_type": "markdown",
   "source": [
    "2. To represent the $\\chi$ distribution, create a sample from a univariate uniform distribution and transform it to a standard normal. To represent the $N_c$ distribution, create another, independent sample from a univariate standard normal. Together, these points form a sample from a bivariate,\n",
    "uncorrelated standard normal distribution."
   ],
   "metadata": {
    "collapsed": false
   }
  },
  {
   "cell_type": "code",
   "execution_count": 80,
   "outputs": [],
   "source": [
    "def draw_from_uniform_dist(n: int):\n",
    "    from numpy import random\n",
    "    return random.uniform(size=n)"
   ],
   "metadata": {
    "collapsed": false
   }
  },
  {
   "cell_type": "code",
   "execution_count": 81,
   "outputs": [],
   "source": [
    "def transform_to_standard_normal(points):\n",
    "    from scipy.stats import norm\n",
    "    return norm.ppf(points)"
   ],
   "metadata": {
    "collapsed": false
   }
  },
  {
   "cell_type": "code",
   "execution_count": 82,
   "outputs": [
    {
     "name": "stdout",
     "output_type": "stream",
     "text": [
      "3.0178592303669873\n"
     ]
    }
   ],
   "source": [
    "print(exact_average_autoconversion_rate(0, 0, 1, 1, 0, alpha, beta))"
   ],
   "metadata": {
    "collapsed": false
   }
  },
  {
   "cell_type": "code",
   "execution_count": 83,
   "outputs": [
    {
     "name": "stdout",
     "output_type": "stream",
     "text": [
      "[[ 0.29747971  1.38371926 -2.00823253  1.11673614 -0.33235746 -0.32846768\n",
      "   0.94033589  0.13176406  1.1168682  -0.47566323]\n",
      " [ 0.56341103 -0.40149547  0.68780276  0.23890905 -1.8707231   1.3673392\n",
      "   0.32038959 -0.83282893  1.02103946 -1.66448251]]\n"
     ]
    }
   ],
   "source": [
    "num_points = 10\n",
    "\n",
    "\n",
    "def create_chi_n_c(num_points: int):\n",
    "    chi = np.array(transform_to_standard_normal(draw_from_uniform_dist(num_points)))\n",
    "    n_c = np.array(transform_to_standard_normal(draw_from_uniform_dist(num_points)))\n",
    "    return np.array([chi, n_c])\n",
    "\n",
    "\n",
    "chi_n_c = create_chi_n_c(num_points)\n",
    "print(chi_n_c)"
   ],
   "metadata": {
    "collapsed": false
   }
  },
  {
   "cell_type": "markdown",
   "source": [
    "3. Use a Cholesky decomposition in order to transform the distribution from a 2D uncorrelated standard normal to a 2D correlated normal. Assume a correlation $r_{(\\chi,N_c)n}$, a mean $N_c$ of $\\mu_{N_{cn}}$ , etc."
   ],
   "metadata": {
    "collapsed": false
   }
  },
  {
   "cell_type": "markdown",
   "source": [
    "$$\n",
    "\\Sigma = \\begin{bmatrix}\n",
    "        1 & r_{12} \\\\\n",
    "        r_{12} & 1\n",
    "        \\end{bmatrix}\n",
    "$$\n",
    "$$\n",
    "L = \\begin{bmatrix}\n",
    "    \\sigma_x & 0 \\\\\n",
    "    \\sigma_y * r_{12} & \\sigma_y\\sqrt{1-{r_{12}}^2}\n",
    "    \\end{bmatrix}\n",
    "$$"
   ],
   "metadata": {
    "collapsed": false
   }
  },
  {
   "cell_type": "markdown",
   "source": [
    "And the decomposition formular:\n",
    "$$ X = L \\cdot Y + \\mu $$"
   ],
   "metadata": {
    "collapsed": false
   }
  },
  {
   "cell_type": "code",
   "execution_count": 84,
   "outputs": [],
   "source": [
    "def transform_to_correlated_by_cholesky(sigma_x, sigma_y, r_12, Y, my):\n",
    "    import numpy as np\n",
    "    L = np.array([[sigma_x, 0], [sigma_y * r_12, sigma_y * np.sqrt(1 - (r_12 ** 2))]])\n",
    "    return L.dot(Y) + my"
   ],
   "metadata": {
    "collapsed": false
   }
  },
  {
   "cell_type": "code",
   "execution_count": 85,
   "outputs": [
    {
     "name": "stdout",
     "output_type": "stream",
     "text": [
      "[[ 0.29747971  1.38371926 -2.00823253  1.11673614 -0.33235746 -0.32846768\n",
      "   0.94033589  0.13176406  1.1168682  -0.47566323]\n",
      " [ 0.32237244  1.3643846  -1.97547252  1.12630107 -0.41566546 -0.26700523\n",
      "   0.95372023  0.09439637  1.16140219 -0.54960688]]\n"
     ]
    }
   ],
   "source": [
    "correlated_bivariate_dist = transform_to_correlated_by_cholesky(sigma_x=1, sigma_y=1, r_12=0.999, Y=chi_n_c, my=0)\n",
    "print(correlated_bivariate_dist)"
   ],
   "metadata": {
    "collapsed": false
   }
  },
  {
   "cell_type": "markdown",
   "source": [
    "4. In order to transform to a lognormal distribution in $N_c$, take the exponential of the $N_c$ component of the sample points."
   ],
   "metadata": {
    "collapsed": false
   }
  },
  {
   "cell_type": "code",
   "execution_count": 86,
   "outputs": [
    {
     "name": "stdout",
     "output_type": "stream",
     "text": [
      "[[ 0.29747971  1.38371926 -2.00823253  1.11673614 -0.33235746 -0.32846768\n",
      "   0.94033589  0.13176406  1.1168682  -0.47566323]\n",
      " [ 1.38039879  3.91331408  0.13869576  3.08422703  0.659901    0.76566907\n",
      "   2.59534702  1.09899527  3.19440931  0.57717667]]\n"
     ]
    }
   ],
   "source": [
    "def lognormal_correlated_bivariate_dist(correlated_bivariate_dist):\n",
    "    return np.array(\n",
    "        [correlated_bivariate_dist[0].copy(), np.exp(correlated_bivariate_dist[1])])\n",
    "\n",
    "lognormal_correlated_bivariate_dist = lognormal_correlated_bivariate_dist(correlated_bivariate_dist)\n",
    "print(lognormal_correlated_bivariate_dist)"
   ],
   "metadata": {
    "collapsed": false
   }
  },
  {
   "cell_type": "markdown",
   "source": [
    "5. Use Monte Carlo integration in order to find the integral $\\overline{A(\\chi,N_c)}$."
   ],
   "metadata": {
    "collapsed": false
   }
  },
  {
   "cell_type": "code",
   "execution_count": 87,
   "outputs": [
    {
     "name": "stdout",
     "output_type": "stream",
     "text": [
      "2.46286625537389\n"
     ]
    },
    {
     "name": "stderr",
     "output_type": "stream",
     "text": [
      "C:\\Users\\sberg\\AppData\\Local\\Temp\\ipykernel_10440\\3111597490.py:6: RuntimeWarning: invalid value encountered in double_scalars\n",
      "  return H(chi) * (chi ** alpha) * (n_c ** beta)\n"
     ]
    }
   ],
   "source": [
    "def A_chi_N_c_Monte_Carlo(lognormal_correlated_bivariate_dist,\n",
    "                          alpha=alpha, beta=beta):\n",
    "    return np.average(\n",
    "        np.nan_to_num(\n",
    "            [a_chi_n_c(chi=c, n_c=nc, alpha=alpha, beta=beta) for c in lognormal_correlated_bivariate_dist[0] for nc in\n",
    "             lognormal_correlated_bivariate_dist[1]]))\n",
    "\n",
    "\n",
    "print(A_chi_N_c_Monte_Carlo(lognormal_correlated_bivariate_dist, alpha, beta))"
   ],
   "metadata": {
    "collapsed": false
   }
  },
  {
   "cell_type": "markdown",
   "source": [
    "6. Compute the Monte Carlo estimate for multiple values of N. Check whether your answer converges to the analytic answer as $\\frac{1}{\\sqrt{n}}$. Make sure that it converges for non-zero values of $r_{(\\chi,N_c)n}$. To improve the convergence rate, choose a value of $\\sigma_{N_{cn}} < 2$."
   ],
   "metadata": {
    "collapsed": false
   }
  },
  {
   "cell_type": "code",
   "execution_count": 88,
   "outputs": [
    {
     "ename": "TypeError",
     "evalue": "A_chi_N_c_Monte_Carlo() missing 1 required positional argument: 'lognormal_correlated_bivariate_dist'",
     "output_type": "error",
     "traceback": [
      "\u001B[1;31m---------------------------------------------------------------------------\u001B[0m",
      "\u001B[1;31mTypeError\u001B[0m                                 Traceback (most recent call last)",
      "Cell \u001B[1;32mIn [88], line 4\u001B[0m\n\u001B[0;32m      1\u001B[0m \u001B[38;5;28;01mfor\u001B[39;00m n \u001B[38;5;129;01min\u001B[39;00m \u001B[38;5;28mrange\u001B[39m(\u001B[38;5;241m10_000\u001B[39m):\n\u001B[0;32m      2\u001B[0m     \u001B[38;5;28;01mif\u001B[39;00m n \u001B[38;5;241m%\u001B[39m \u001B[38;5;241m10\u001B[39m \u001B[38;5;241m==\u001B[39m \u001B[38;5;241m0\u001B[39m:\n\u001B[1;32m----> 4\u001B[0m         \u001B[38;5;28mprint\u001B[39m(\u001B[38;5;124mf\u001B[39m\u001B[38;5;124m'\u001B[39m\u001B[38;5;124mMonte Carlo for n=\u001B[39m\u001B[38;5;132;01m{\u001B[39;00mn\u001B[38;5;132;01m}\u001B[39;00m\u001B[38;5;124m: \u001B[39m\u001B[38;5;132;01m{\u001B[39;00mA_chi_N_c_Monte_Carlo()\u001B[38;5;132;01m}\u001B[39;00m\u001B[38;5;124m'\u001B[39m)\n",
      "\u001B[1;31mTypeError\u001B[0m: A_chi_N_c_Monte_Carlo() missing 1 required positional argument: 'lognormal_correlated_bivariate_dist'"
     ]
    }
   ],
   "source": [
    "for n in range(10_000):\n",
    "    if n % 10 == 0:\n",
    "\n",
    "        print(f'Monte Carlo for n={n}: {A_chi_N_c_Monte_Carlo()}')"
   ],
   "metadata": {
    "collapsed": false
   }
  }
 ],
 "metadata": {
  "kernelspec": {
   "display_name": "Python 3",
   "language": "python",
   "name": "python3"
  },
  "language_info": {
   "codemirror_mode": {
    "name": "ipython",
    "version": 2
   },
   "file_extension": ".py",
   "mimetype": "text/x-python",
   "name": "python",
   "nbconvert_exporter": "python",
   "pygments_lexer": "ipython2",
   "version": "2.7.6"
  }
 },
 "nbformat": 4,
 "nbformat_minor": 0
}
