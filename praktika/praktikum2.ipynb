{
 "cells": [
  {
   "cell_type": "markdown",
   "source": [
    "# Praktikum 2, Monte Carlo\n",
    "## Math modeling of the atmosphere\n",
    "\n",
    "\n",
    "## Computing average autoconversion"
   ],
   "metadata": {
    "collapsed": false
   }
  },
  {
   "cell_type": "markdown",
   "source": [
    "Autoconversion is the process by which small cloud droplets grow in size and become rain drops. It can be approximated as a function of two variables, $\\chi$ and $N_c$:"
   ],
   "metadata": {
    "collapsed": false
   }
  },
  {
   "cell_type": "markdown",
   "source": [
    "$$A(\\chi, N_c)=H(\\chi){\\chi}^{\\alpha}{N_c}^{\\beta}$$"
   ],
   "metadata": {
    "collapsed": false
   }
  },
  {
   "cell_type": "markdown",
   "source": [
    "Here $\\chi$ is related to clound water mixing ratio, and $N_c$ is the number of cloud droplets. The expontent $\\alpha$ is often taken to equal 2.47, and the exponent $\\beta$ is often taken to equal -1.79. Therefore, if there is more cloud water or larger drops, rain forms more easily."
   ],
   "metadata": {
    "collapsed": false
   }
  },
  {
   "cell_type": "markdown",
   "source": [
    "If we integrate over this autoconversion expression over a bivariate PDF that is normal in $\\chi$ and lognormal in $N_c$, we find"
   ],
   "metadata": {
    "collapsed": false
   }
  },
  {
   "cell_type": "markdown",
   "source": [
    "TODO!"
   ],
   "metadata": {
    "collapsed": false
   }
  },
  {
   "cell_type": "code",
   "execution_count": 1,
   "outputs": [],
   "source": [
    "def exact_average_autoconversion_rate(my_n_c, my_chi,\n",
    "                                      sigma_chi, sigma_n_c,\n",
    "                                      r_chi_n_c, alpha, beta):\n",
    "    import numpy as np\n",
    "    from scipy.special import gamma, pbdv\n",
    "    return (1 / (np.sqrt(2 * np.pi))) * (sigma_chi ** alpha) * np.exp((my_n_c * beta) + ((1/2) * sigma_n_c ** 2 * beta ** 2) - ((1/4) * ((my_chi / sigma_chi) + r_chi_n_c * sigma_n_c * beta) ** 2)) * gamma(alpha + 1) * pbdv(-(alpha + 1), -((my_chi/sigma_chi) + r_chi_n_c * sigma_n_c * beta))"
   ],
   "metadata": {
    "collapsed": false
   }
  }
 ],
 "metadata": {
  "kernelspec": {
   "display_name": "Python 3",
   "language": "python",
   "name": "python3"
  },
  "language_info": {
   "codemirror_mode": {
    "name": "ipython",
    "version": 2
   },
   "file_extension": ".py",
   "mimetype": "text/x-python",
   "name": "python",
   "nbconvert_exporter": "python",
   "pygments_lexer": "ipython2",
   "version": "2.7.6"
  }
 },
 "nbformat": 4,
 "nbformat_minor": 0
}
