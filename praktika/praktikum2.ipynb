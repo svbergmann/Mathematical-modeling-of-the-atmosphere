{
 "cells": [
  {
   "cell_type": "markdown",
   "source": [
    "# Praktikum 2, Monte Carlo\n",
    "## Math modeling of the atmosphere\n",
    "\n",
    "\n",
    "## Computing average autoconversion"
   ],
   "metadata": {
    "collapsed": false
   }
  },
  {
   "cell_type": "markdown",
   "source": [
    "Autoconversion is the process by which small cloud droplets grow in size and become rain drops. It can be approximated as a function of two variables, $\\chi$ and $N_c$:"
   ],
   "metadata": {
    "collapsed": false
   }
  },
  {
   "cell_type": "markdown",
   "source": [
    "$$A(\\chi, N_c)=H(\\chi){\\chi}^{\\alpha}{N_c}^{\\beta}$$"
   ],
   "metadata": {
    "collapsed": false
   }
  },
  {
   "cell_type": "code",
   "execution_count": 116,
   "outputs": [],
   "source": [
    "import numpy as np\n",
    "from scipy.special import gamma, pbdv\n",
    "from matplotlib import pyplot as plt"
   ],
   "metadata": {
    "collapsed": false
   }
  },
  {
   "cell_type": "code",
   "execution_count": 117,
   "outputs": [],
   "source": [
    "def a_chi_n_c(chi, n_c, alpha, beta):\n",
    "    return np.heaviside(chi, 1) * np.power(chi, alpha) * np.power(n_c, beta)"
   ],
   "metadata": {
    "collapsed": false
   }
  },
  {
   "cell_type": "markdown",
   "source": [
    "Here $\\chi$ is related to clound water mixing ratio, and $N_c$ is the number of cloud droplets. The expontent $\\alpha$ is often taken to equal 2.47, and the exponent $\\beta$ is often taken to equal -1.79. Therefore, if there is more cloud water or larger drops, rain forms more easily."
   ],
   "metadata": {
    "collapsed": false
   }
  },
  {
   "cell_type": "code",
   "execution_count": 118,
   "outputs": [],
   "source": [
    "alpha = 2.47\n",
    "beta = -1.79"
   ],
   "metadata": {
    "collapsed": false
   }
  },
  {
   "cell_type": "markdown",
   "source": [
    "If we integrate over this autoconversion expression over a bivariate PDF that is normal in $\\chi$ and lognormal in $N_c$, we find"
   ],
   "metadata": {
    "collapsed": false
   }
  },
  {
   "cell_type": "markdown",
   "source": [
    "TODO!"
   ],
   "metadata": {
    "collapsed": false
   }
  },
  {
   "cell_type": "markdown",
   "source": [
    "1. Write a python function that computes the exact average autoconversion rate given by the formula above. As input, it should take in the means, standard deviations, and correlation of the PDF, along with the exponents $\\alpha$ and $\\beta$. As output, it should produce $\\overline{A(\\chi,N_c)}$. Use the `scipy.special` function, `pbdv`."
   ],
   "metadata": {
    "collapsed": false
   }
  },
  {
   "cell_type": "code",
   "execution_count": 119,
   "outputs": [],
   "source": [
    "def exact_average_autoconversion_rate(my_n_c, my_chi,\n",
    "                                      sigma_chi, sigma_n_c,\n",
    "                                      r_chi_n_c, alpha, beta):\n",
    "    return (1 / (np.sqrt(2 * np.pi))) * (sigma_chi ** alpha) * np.exp(\n",
    "        (my_n_c * beta) + ((1 / 2) * sigma_n_c ** 2 * beta ** 2) - (\n",
    "                (1 / 4) * ((my_chi / sigma_chi) + r_chi_n_c * sigma_n_c * beta) ** 2)) * gamma(alpha + 1) * \\\n",
    "        pbdv(-(alpha + 1), -((my_chi / sigma_chi) + r_chi_n_c * sigma_n_c * beta))[0]"
   ],
   "metadata": {
    "collapsed": false
   }
  },
  {
   "cell_type": "markdown",
   "source": [
    "2. To represent the $\\chi$ distribution, create a sample from a univariate uniform distribution and transform it to a standard normal. To represent the $N_c$ distribution, create another, independent sample from a univariate standard normal. Together, these points form a sample from a bivariate,\n",
    "uncorrelated standard normal distribution."
   ],
   "metadata": {
    "collapsed": false
   }
  },
  {
   "cell_type": "code",
   "execution_count": 120,
   "outputs": [],
   "source": [
    "def draw_from_uniform_dist(n: int):\n",
    "    from numpy import random\n",
    "    return random.uniform(size=n)"
   ],
   "metadata": {
    "collapsed": false
   }
  },
  {
   "cell_type": "code",
   "execution_count": 121,
   "outputs": [],
   "source": [
    "def transform_to_standard_normal(points):\n",
    "    from scipy.stats import norm\n",
    "    return norm.ppf(points)"
   ],
   "metadata": {
    "collapsed": false
   }
  },
  {
   "cell_type": "code",
   "execution_count": 122,
   "outputs": [],
   "source": [
    "exact = exact_average_autoconversion_rate(0, 0, 1, 1, 0, alpha, beta)"
   ],
   "metadata": {
    "collapsed": false
   }
  },
  {
   "cell_type": "code",
   "execution_count": 123,
   "outputs": [],
   "source": [
    "num_points = 1000\n",
    "\n",
    "\n",
    "def create_chi_n_c(num_points: int):\n",
    "    chi = np.array(transform_to_standard_normal(draw_from_uniform_dist(num_points)))\n",
    "    n_c = np.array(transform_to_standard_normal(draw_from_uniform_dist(num_points)))\n",
    "    return np.array([chi, n_c])"
   ],
   "metadata": {
    "collapsed": false
   }
  },
  {
   "cell_type": "markdown",
   "source": [
    "3. Use a Cholesky decomposition in order to transform the distribution from a 2D uncorrelated standard normal to a 2D correlated normal. Assume a correlation $r_{(\\chi,N_c)n}$, a mean $N_c$ of $\\mu_{N_{cn}}$ , etc."
   ],
   "metadata": {
    "collapsed": false
   }
  },
  {
   "cell_type": "markdown",
   "source": [
    "$$\n",
    "\\Sigma = \\begin{bmatrix}\n",
    "        1 & r_{12} \\\\\n",
    "        r_{12} & 1\n",
    "        \\end{bmatrix}\n",
    "$$\n",
    "$$\n",
    "L = \\begin{bmatrix}\n",
    "    \\sigma_x & 0 \\\\\n",
    "    \\sigma_y * r_{12} & \\sigma_y\\sqrt{1-{r_{12}}^2}\n",
    "    \\end{bmatrix}\n",
    "$$"
   ],
   "metadata": {
    "collapsed": false
   }
  },
  {
   "cell_type": "markdown",
   "source": [
    "And the decomposition formular:\n",
    "$$ X = L \\cdot Y + \\mu $$"
   ],
   "metadata": {
    "collapsed": false
   }
  },
  {
   "cell_type": "code",
   "execution_count": 124,
   "outputs": [],
   "source": [
    "def transform_to_correlated_by_cholesky(sigma_x, sigma_y, r_12, Y, my):\n",
    "    import numpy as np\n",
    "    L = np.array([[sigma_x, 0], [sigma_y * r_12, sigma_y * np.sqrt(1 - (r_12 ** 2))]])\n",
    "    return L.dot(Y) + my"
   ],
   "metadata": {
    "collapsed": false
   }
  },
  {
   "cell_type": "markdown",
   "source": [
    "4. In order to transform to a lognormal distribution in $N_c$, take the exponential of the $N_c$ component of the sample points."
   ],
   "metadata": {
    "collapsed": false
   }
  },
  {
   "cell_type": "code",
   "execution_count": 125,
   "outputs": [],
   "source": [
    "def lognormal_correlated_bivariate_dist(correlated_bivariate_dist):\n",
    "    return np.array([correlated_bivariate_dist[0].copy(), np.exp(correlated_bivariate_dist[1])])"
   ],
   "metadata": {
    "collapsed": false
   }
  },
  {
   "cell_type": "markdown",
   "source": [
    "5. Use Monte Carlo integration in order to find the integral $\\overline{A(\\chi,N_c)}$."
   ],
   "metadata": {
    "collapsed": false
   }
  },
  {
   "cell_type": "code",
   "execution_count": 126,
   "outputs": [
    {
     "name": "stderr",
     "output_type": "stream",
     "text": [
      "C:\\Users\\sberg\\AppData\\Local\\Temp\\ipykernel_16532\\77067271.py:2: RuntimeWarning: invalid value encountered in power\n",
      "  return np.heaviside(chi, 1) * np.power(chi, alpha) * np.power(n_c, beta)\n"
     ]
    },
    {
     "name": "stdout",
     "output_type": "stream",
     "text": [
      "2.5264930284349973\n",
      "3.0178592303669873\n"
     ]
    }
   ],
   "source": [
    "def A_chi_N_c_Monte_Carlo(lognormal_correlated_bivariate_dist, alpha=alpha, beta=beta):\n",
    "    return np.average(\n",
    "        [np.nan_to_num(a_chi_n_c(chi=c, n_c=nc, alpha=alpha, beta=beta)) for c in lognormal_correlated_bivariate_dist[0]\n",
    "         for nc in\n",
    "         lognormal_correlated_bivariate_dist[1]])\n",
    "\n",
    "\n",
    "print(A_chi_N_c_Monte_Carlo(lognormal_correlated_bivariate_dist(\n",
    "    transform_to_correlated_by_cholesky(sigma_x=1, sigma_y=1, r_12=0.999, Y=create_chi_n_c(num_points), my=0)), alpha,\n",
    "    beta))\n",
    "print(exact)"
   ],
   "metadata": {
    "collapsed": false
   }
  },
  {
   "cell_type": "markdown",
   "source": [
    "6. Compute the Monte Carlo estimate for multiple values of N. Check whether your answer converges to the analytic answer as $\\frac{1}{\\sqrt{n}}$. Make sure that it converges for non-zero values of $r_{(\\chi,N_c)n}$. To improve the convergence rate, choose a value of $\\sigma_{N_{cn}} < 2$."
   ],
   "metadata": {
    "collapsed": false
   }
  },
  {
   "cell_type": "code",
   "execution_count": 127,
   "outputs": [
    {
     "name": "stderr",
     "output_type": "stream",
     "text": [
      "C:\\Users\\sberg\\anaconda3\\lib\\site-packages\\numpy\\lib\\function_base.py:380: RuntimeWarning: Mean of empty slice.\n",
      "  avg = a.mean(axis)\n",
      "C:\\Users\\sberg\\anaconda3\\lib\\site-packages\\numpy\\core\\_methods.py:189: RuntimeWarning: invalid value encountered in double_scalars\n",
      "  ret = ret.dtype.type(ret / rcount)\n",
      "C:\\Users\\sberg\\AppData\\Local\\Temp\\ipykernel_16532\\77067271.py:2: RuntimeWarning: invalid value encountered in power\n",
      "  return np.heaviside(chi, 1) * np.power(chi, alpha) * np.power(n_c, beta)\n",
      "C:\\Users\\sberg\\AppData\\Local\\Temp\\ipykernel_16532\\3399037672.py:12: RuntimeWarning: divide by zero encountered in true_divide\n",
      "  ax.plot(y, 1 / np.sqrt(y), label='1/sqrt(n)')\n"
     ]
    },
    {
     "data": {
      "text/plain": "<Figure size 640x480 with 1 Axes>",
      "image/png": "[encoded data removed]"
     },
     "metadata": {},
     "output_type": "display_data"
    }
   ],
   "source": [
    "def generate_X(num_points=100, sigma_x=1, sigma_y=1, r_12=0.99, my=0):\n",
    "    return lognormal_correlated_bivariate_dist(\n",
    "        transform_to_correlated_by_cholesky(sigma_x, sigma_y, r_12, create_chi_n_c(num_points), my))\n",
    "\n",
    "\n",
    "y = np.arange(0, 1001, 200)\n",
    "x = np.fromiter(\n",
    "    [(A_chi_N_c_Monte_Carlo(lognormal_correlated_bivariate_dist=generate_X(num_points=i)) - exact) for i in y],\n",
    "    dtype=float)\n",
    "fig, ax = plt.subplots()\n",
    "ax.plot(y, x, label='Monte_Carlo_error')\n",
    "ax.plot(y, 1 / np.sqrt(y), label='1/sqrt(n)')\n",
    "ax.set_ylabel('n')\n",
    "ax.legend()\n",
    "plt.show()"
   ],
   "metadata": {
    "collapsed": false
   }
  }
 ],
 "metadata": {
  "kernelspec": {
   "display_name": "Python 3",
   "language": "python",
   "name": "python3"
  },
  "language_info": {
   "codemirror_mode": {
    "name": "ipython",
    "version": 2
   },
   "file_extension": ".py",
   "mimetype": "text/x-python",
   "name": "python",
   "nbconvert_exporter": "python",
   "pygments_lexer": "ipython2",
   "version": "2.7.6"
  }
 },
 "nbformat": 4,
 "nbformat_minor": 0
}
